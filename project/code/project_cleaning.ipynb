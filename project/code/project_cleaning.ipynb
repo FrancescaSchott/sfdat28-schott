{
 "cells": [
  {
   "cell_type": "code",
   "execution_count": 1,
   "metadata": {
    "collapsed": false
   },
   "outputs": [],
   "source": [
    "import pandas as pd\n",
    "\n",
    "resp = pd.read_csv('/Users/FrancescaSchott/sfdat/sfdat28-schott/project/data/ehresp_2014.csv')\n",
    "atus = pd.read_csv('/Users/FrancescaSchott/sfdat/sfdat28-schott/project/data/atus_2014.csv')"
   ]
  },
  {
   "cell_type": "code",
   "execution_count": 2,
   "metadata": {
    "collapsed": false
   },
   "outputs": [
    {
     "name": "stderr",
     "output_type": "stream",
     "text": [
      "/Users/FrancescaSchott/anaconda/envs/testenv/lib/python2.7/site-packages/pandas/core/frame.py:2754: SettingWithCopyWarning: \n",
      "A value is trying to be set on a copy of a slice from a DataFrame\n",
      "\n",
      "See the caveats in the documentation: http://pandas.pydata.org/pandas-docs/stable/indexing.html#indexing-view-versus-copy\n",
      "  **kwargs)\n"
     ]
    }
   ],
   "source": [
    "##################################################################\n",
    "# Choosing select features from ATUS Data to merge with EH Data #\n",
    "##################################################################\n",
    "\n",
    "atus_test = atus[['TUCASEID', 'TRERNWA', 'TRMJIND1', 'TRMJOCGR', 'TELFS', 'TREMODR', 'TRNUMHOU']]\n",
    "\n",
    "atus_test.rename(columns={'TUCASEID':'tucaseid',\n",
    "                         'TRERNWA':'income_weekly',\n",
    "                         'TRMJIND1':'maj_ind',\n",
    "                         'TRMJOCGR':'cat_occ',\n",
    "                         'TELFS':'labor_status',\n",
    "                         'TREMODR':'eh_resp',\n",
    "                         'TRNUMHOU':'household_number'},\n",
    "                 inplace=True)"
   ]
  },
  {
   "cell_type": "code",
   "execution_count": 3,
   "metadata": {
    "collapsed": false
   },
   "outputs": [],
   "source": [
    "################################\n",
    "# Merge ATUS Data with EH Data #\n",
    "# New dataframe called 'resp'  #\n",
    "################################\n",
    "\n",
    "resp = pd.merge(resp, atus_test, on=['tucaseid'], how='left')"
   ]
  },
  {
   "cell_type": "code",
   "execution_count": 4,
   "metadata": {
    "collapsed": true
   },
   "outputs": [],
   "source": [
    "############################################\n",
    "# Rename columns in resp for understanding #\n",
    "############################################\n",
    "\n",
    "resp.rename(columns={'erbmi':'bmi', \n",
    "                     'ertpreat':'primary_eating', \n",
    "                     'ertseat':'secondary_eating', \n",
    "                     'euexercise':'exercise', \n",
    "                     'eufastfd':'fast_food',\n",
    "                     'eufdsit':'food_amount',\n",
    "                     'euinclvl':'income_14_15',\n",
    "                     'erincome':'income_lvl',\n",
    "                     'eustores':'stores'\n",
    "                     },\n",
    "            inplace=True)                    "
   ]
  },
  {
   "cell_type": "code",
   "execution_count": 5,
   "metadata": {
    "collapsed": false
   },
   "outputs": [],
   "source": [
    "##################################\n",
    "# Remove unused columns in resp #\n",
    "#################################\n",
    "\n",
    "resp.drop(['eeincome1', \n",
    "           'erhhch',\n",
    "           'eudietsoda',\n",
    "           'eudrink',\n",
    "           'eueat',\n",
    "           'euexfreq',\n",
    "           'eufastfdfrq',\n",
    "           'euincome2', \n",
    "           'erspemch', \n",
    "           'ethgt', \n",
    "           'etwgt', \n",
    "           'euffyday', \n",
    "           'eufinlwgt', \n",
    "           'eusnap', \n",
    "           'eugenhth',\n",
    "           'eugroshp',\n",
    "           'euhgt',\n",
    "           'eumeat',\n",
    "           'eumilk',\n",
    "           'euprpmel',\n",
    "           'eusoda',\n",
    "           'eustreason',\n",
    "           'eutherm',\n",
    "           'euwgt',\n",
    "           'euwic',\n",
    "           'exincome1'\n",
    "          ], axis=1, inplace=True)"
   ]
  },
  {
   "cell_type": "code",
   "execution_count": 6,
   "metadata": {
    "collapsed": false
   },
   "outputs": [
    {
     "data": {
      "text/plain": [
       "5    9232\n",
       "6    1980\n",
       "Name: income_14_15, dtype: int64"
      ]
     },
     "execution_count": 6,
     "metadata": {},
     "output_type": "execute_result"
    }
   ],
   "source": [
    "#############################################################################################\n",
    "# Check value counts for respondent's income level based on 2014 or 2015 poverty threshold #\n",
    "#############################################################################################\n",
    "\n",
    "resp.income_14_15.value_counts()"
   ]
  },
  {
   "cell_type": "code",
   "execution_count": 7,
   "metadata": {
    "collapsed": false
   },
   "outputs": [],
   "source": [
    "################################################\n",
    "# Create subset of data based on:              #\n",
    "#                                              #\n",
    "# 2014 poverty threshold                       #\n",
    "# household size of 1                          #\n",
    "# employed (labor status)                      #\n",
    "#                                              #\n",
    "# And then drop those columns from data frame. #\n",
    "################################################\n",
    "\n",
    "resp = resp[resp['income_14_15'] == 5]\n",
    "resp = resp[resp['household_number'] == 1]\n",
    "resp = resp[resp['labor_status'] == 1]\n",
    "resp = resp.drop(['tucaseid', 'tulineno', 'income_14_15', 'eh_resp', 'labor_status', 'household_number'], axis=1)"
   ]
  },
  {
   "cell_type": "code",
   "execution_count": 8,
   "metadata": {
    "collapsed": false
   },
   "outputs": [
    {
     "name": "stdout",
     "output_type": "stream",
     "text": [
      " 1    869\n",
      " 5    136\n",
      " 3     95\n",
      " 2     50\n",
      "-1      8\n",
      "Name: income_lvl, dtype: int64\n",
      " 1    775\n",
      " 2    378\n",
      "-1      3\n",
      "-2      1\n",
      "-3      1\n",
      "Name: exercise, dtype: int64\n",
      " 1    1089\n",
      " 2      46\n",
      " 3      17\n",
      "-1       3\n",
      "-2       2\n",
      "-3       1\n",
      "Name: food_amount, dtype: int64\n"
     ]
    }
   ],
   "source": [
    "####################################################################\n",
    "# Check response values for income level, exercise and food amount #\n",
    "####################################################################\n",
    "\n",
    "print resp.income_lvl.value_counts()\n",
    "print resp.exercise.value_counts()\n",
    "print resp.food_amount.value_counts()"
   ]
  },
  {
   "cell_type": "code",
   "execution_count": 9,
   "metadata": {
    "collapsed": false
   },
   "outputs": [],
   "source": [
    "####################################################################################\n",
    "# Create binary values for income level                                            #\n",
    "# Swicth exercise and food amount responses so 'good' is higher and 'bad' is lower #\n",
    "####################################################################################\n",
    "\n",
    "resp.income_lvl.replace([1, 2, 3, 5], [1, 0, 0, 0], inplace=True)\n",
    "resp.exercise.replace([1, 2], [2, 1], inplace=True)\n",
    "resp.food_amount.replace([1, 3], [3, 1], inplace=True)"
   ]
  },
  {
   "cell_type": "code",
   "execution_count": 10,
   "metadata": {
    "collapsed": false
   },
   "outputs": [],
   "source": [
    "##############################################################\n",
    "# Drop rows without responses to income level - only 8 rows  #\n",
    "##############################################################\n",
    "\n",
    "resp = resp[resp.income_lvl != -1]"
   ]
  },
  {
   "cell_type": "code",
   "execution_count": 11,
   "metadata": {
    "collapsed": false
   },
   "outputs": [
    {
     "name": "stdout",
     "output_type": "stream",
     "text": [
      "(1150, 11)\n",
      "1    869\n",
      "0    281\n",
      "Name: income_lvl, dtype: int64\n",
      " 2    771\n",
      " 1    377\n",
      "-2      1\n",
      "-3      1\n",
      "Name: exercise, dtype: int64\n",
      " 3    1084\n",
      " 2      46\n",
      " 1      17\n",
      "-2       2\n",
      "-3       1\n",
      "Name: food_amount, dtype: int64\n"
     ]
    }
   ],
   "source": [
    "##########################################################################################\n",
    "# Check current shape and new response values for income level, exercise and food amount #\n",
    "##########################################################################################\n",
    "\n",
    "print resp.shape\n",
    "print resp.income_lvl.value_counts()\n",
    "print resp.exercise.value_counts()\n",
    "print resp.food_amount.value_counts()"
   ]
  },
  {
   "cell_type": "code",
   "execution_count": 12,
   "metadata": {
    "collapsed": false
   },
   "outputs": [
    {
     "data": {
      "text/plain": [
       "bmi                  56\n",
       "income_lvl            0\n",
       "primary_eating        0\n",
       "secondary_eating      5\n",
       "exercise              2\n",
       "fast_food             3\n",
       "food_amount           3\n",
       "stores               26\n",
       "income_weekly       131\n",
       "maj_ind               0\n",
       "cat_occ               0\n",
       "dtype: int64"
      ]
     },
     "execution_count": 12,
     "metadata": {},
     "output_type": "execute_result"
    }
   ],
   "source": [
    "######################################################\n",
    "# Make all negative values in data frame null values #\n",
    "######################################################\n",
    "\n",
    "resp.where(resp>=0, None, inplace=True)\n",
    "\n",
    "resp.isnull().sum()"
   ]
  },
  {
   "cell_type": "code",
   "execution_count": 13,
   "metadata": {
    "collapsed": false
   },
   "outputs": [
    {
     "data": {
      "text/plain": [
       "bmi                 0\n",
       "income_lvl          0\n",
       "primary_eating      0\n",
       "secondary_eating    0\n",
       "exercise            0\n",
       "fast_food           0\n",
       "food_amount         0\n",
       "stores              0\n",
       "income_weekly       0\n",
       "maj_ind             0\n",
       "cat_occ             0\n",
       "dtype: int64"
      ]
     },
     "execution_count": 13,
     "metadata": {},
     "output_type": "execute_result"
    }
   ],
   "source": [
    "#############################################\n",
    "# Fill null values based on feature         #\n",
    "# Continuous features were filled with mean #\n",
    "# Categorical features were filled with 0   #\n",
    "# Weekly income decimal point was moved     #\n",
    "#############################################\n",
    "\n",
    "resp.bmi.fillna(resp.bmi.mean(), inplace=True)\n",
    "resp.primary_eating = resp.primary_eating.apply(lambda x:float(x))\n",
    "resp.secondary_eating.fillna(round(resp.secondary_eating.mean(), 0), inplace=True)\n",
    "\n",
    "resp.exercise.fillna(0, inplace=True)\n",
    "resp.fast_food.fillna(0, inplace=True)\n",
    "resp.food_amount.fillna(0, inplace=True)\n",
    "resp.stores.fillna(5, inplace=True)\n",
    "\n",
    "resp.income_weekly.fillna(resp.income_weekly.mean(), inplace=True)\n",
    "resp.income_weekly = resp.income_weekly.apply(lambda x: x/100)\n",
    "\n",
    "resp.isnull().sum()"
   ]
  },
  {
   "cell_type": "code",
   "execution_count": 14,
   "metadata": {
    "collapsed": true
   },
   "outputs": [],
   "source": [
    "##################################################\n",
    "# Reorder columns with response variables at end #\n",
    "##################################################\n",
    "\n",
    "resp = resp[['bmi', 'primary_eating', 'secondary_eating', 'exercise', 'fast_food', 'food_amount', 'stores', 'maj_ind', 'cat_occ', 'income_lvl', 'income_weekly']]"
   ]
  },
  {
   "cell_type": "code",
   "execution_count": null,
   "metadata": {
    "collapsed": false
   },
   "outputs": [],
   "source": [
    "###############################################################\n",
    "# Save and export dataframe as csv to use in eda and modeling #\n",
    "###############################################################\n",
    "\n",
    "resp.to_csv('/Users/FrancescaSchott/sfdat/sfdat28-schott/project/data/resp.csv', index_col=0)"
   ]
  }
 ],
 "metadata": {
  "anaconda-cloud": {},
  "kernelspec": {
   "display_name": "Python [conda env:testenv]",
   "language": "python",
   "name": "conda-env-testenv-py"
  },
  "language_info": {
   "codemirror_mode": {
    "name": "ipython",
    "version": 2
   },
   "file_extension": ".py",
   "mimetype": "text/x-python",
   "name": "python",
   "nbconvert_exporter": "python",
   "pygments_lexer": "ipython2",
   "version": "2.7.12"
  }
 },
 "nbformat": 4,
 "nbformat_minor": 1
}
