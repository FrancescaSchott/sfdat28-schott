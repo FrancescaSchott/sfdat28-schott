{
 "cells": [
  {
   "cell_type": "code",
   "execution_count": 13,
   "metadata": {
    "collapsed": true
   },
   "outputs": [],
   "source": [
    "import pandas as pd\n",
    "import numpy as np\n",
    "import re\n",
    "import matplotlib.pyplot as plt\n",
    "import scipy as scipy\n",
    "from scipy import special, optimize\n",
    "import seaborn as sns\n",
    "%matplotlib inline"
   ]
  },
  {
   "cell_type": "code",
   "execution_count": 14,
   "metadata": {
    "collapsed": false
   },
   "outputs": [
    {
     "data": {
      "text/html": [
       "<div>\n",
       "<table border=\"1\" class=\"dataframe\">\n",
       "  <thead>\n",
       "    <tr style=\"text-align: right;\">\n",
       "      <th></th>\n",
       "      <th>tucaseid</th>\n",
       "      <th>tulineno</th>\n",
       "      <th>eeincome1</th>\n",
       "      <th>erbmi</th>\n",
       "      <th>erhhch</th>\n",
       "      <th>erincome</th>\n",
       "      <th>erspemch</th>\n",
       "      <th>ertpreat</th>\n",
       "      <th>ertseat</th>\n",
       "      <th>ethgt</th>\n",
       "      <th>...</th>\n",
       "      <th>eumeat</th>\n",
       "      <th>eumilk</th>\n",
       "      <th>euprpmel</th>\n",
       "      <th>eusoda</th>\n",
       "      <th>eustores</th>\n",
       "      <th>eustreason</th>\n",
       "      <th>eutherm</th>\n",
       "      <th>euwgt</th>\n",
       "      <th>euwic</th>\n",
       "      <th>exincome1</th>\n",
       "    </tr>\n",
       "  </thead>\n",
       "  <tbody>\n",
       "    <tr>\n",
       "      <th>0</th>\n",
       "      <td>20140101140007</td>\n",
       "      <td>1</td>\n",
       "      <td>-2</td>\n",
       "      <td>33.200001</td>\n",
       "      <td>1</td>\n",
       "      <td>-1</td>\n",
       "      <td>-1</td>\n",
       "      <td>30</td>\n",
       "      <td>2</td>\n",
       "      <td>0</td>\n",
       "      <td>...</td>\n",
       "      <td>1</td>\n",
       "      <td>2</td>\n",
       "      <td>1</td>\n",
       "      <td>-1</td>\n",
       "      <td>2</td>\n",
       "      <td>1</td>\n",
       "      <td>2</td>\n",
       "      <td>170</td>\n",
       "      <td>1</td>\n",
       "      <td>2</td>\n",
       "    </tr>\n",
       "    <tr>\n",
       "      <th>1</th>\n",
       "      <td>20140101140011</td>\n",
       "      <td>1</td>\n",
       "      <td>1</td>\n",
       "      <td>22.700001</td>\n",
       "      <td>3</td>\n",
       "      <td>1</td>\n",
       "      <td>-1</td>\n",
       "      <td>45</td>\n",
       "      <td>14</td>\n",
       "      <td>0</td>\n",
       "      <td>...</td>\n",
       "      <td>1</td>\n",
       "      <td>2</td>\n",
       "      <td>1</td>\n",
       "      <td>-1</td>\n",
       "      <td>1</td>\n",
       "      <td>2</td>\n",
       "      <td>2</td>\n",
       "      <td>128</td>\n",
       "      <td>2</td>\n",
       "      <td>0</td>\n",
       "    </tr>\n",
       "    <tr>\n",
       "      <th>2</th>\n",
       "      <td>20140101140028</td>\n",
       "      <td>1</td>\n",
       "      <td>2</td>\n",
       "      <td>49.400002</td>\n",
       "      <td>3</td>\n",
       "      <td>5</td>\n",
       "      <td>-1</td>\n",
       "      <td>60</td>\n",
       "      <td>0</td>\n",
       "      <td>0</td>\n",
       "      <td>...</td>\n",
       "      <td>-1</td>\n",
       "      <td>-1</td>\n",
       "      <td>2</td>\n",
       "      <td>2</td>\n",
       "      <td>-1</td>\n",
       "      <td>-1</td>\n",
       "      <td>-1</td>\n",
       "      <td>270</td>\n",
       "      <td>2</td>\n",
       "      <td>12</td>\n",
       "    </tr>\n",
       "    <tr>\n",
       "      <th>3</th>\n",
       "      <td>20140101140063</td>\n",
       "      <td>1</td>\n",
       "      <td>-2</td>\n",
       "      <td>-1.000000</td>\n",
       "      <td>3</td>\n",
       "      <td>-1</td>\n",
       "      <td>-1</td>\n",
       "      <td>0</td>\n",
       "      <td>0</td>\n",
       "      <td>0</td>\n",
       "      <td>...</td>\n",
       "      <td>2</td>\n",
       "      <td>2</td>\n",
       "      <td>1</td>\n",
       "      <td>1</td>\n",
       "      <td>2</td>\n",
       "      <td>6</td>\n",
       "      <td>-1</td>\n",
       "      <td>-2</td>\n",
       "      <td>2</td>\n",
       "      <td>2</td>\n",
       "    </tr>\n",
       "    <tr>\n",
       "      <th>4</th>\n",
       "      <td>20140101140168</td>\n",
       "      <td>1</td>\n",
       "      <td>2</td>\n",
       "      <td>31.000000</td>\n",
       "      <td>3</td>\n",
       "      <td>5</td>\n",
       "      <td>-1</td>\n",
       "      <td>65</td>\n",
       "      <td>0</td>\n",
       "      <td>0</td>\n",
       "      <td>...</td>\n",
       "      <td>1</td>\n",
       "      <td>2</td>\n",
       "      <td>1</td>\n",
       "      <td>2</td>\n",
       "      <td>1</td>\n",
       "      <td>1</td>\n",
       "      <td>2</td>\n",
       "      <td>210</td>\n",
       "      <td>1</td>\n",
       "      <td>0</td>\n",
       "    </tr>\n",
       "  </tbody>\n",
       "</table>\n",
       "<p>5 rows × 37 columns</p>\n",
       "</div>"
      ],
      "text/plain": [
       "         tucaseid  tulineno  eeincome1      erbmi  erhhch  erincome  erspemch  \\\n",
       "0  20140101140007         1         -2  33.200001       1        -1        -1   \n",
       "1  20140101140011         1          1  22.700001       3         1        -1   \n",
       "2  20140101140028         1          2  49.400002       3         5        -1   \n",
       "3  20140101140063         1         -2  -1.000000       3        -1        -1   \n",
       "4  20140101140168         1          2  31.000000       3         5        -1   \n",
       "\n",
       "   ertpreat  ertseat  ethgt    ...      eumeat  eumilk  euprpmel  eusoda  \\\n",
       "0        30        2      0    ...           1       2         1      -1   \n",
       "1        45       14      0    ...           1       2         1      -1   \n",
       "2        60        0      0    ...          -1      -1         2       2   \n",
       "3         0        0      0    ...           2       2         1       1   \n",
       "4        65        0      0    ...           1       2         1       2   \n",
       "\n",
       "   eustores  eustreason  eutherm  euwgt  euwic  exincome1  \n",
       "0         2           1        2    170      1          2  \n",
       "1         1           2        2    128      2          0  \n",
       "2        -1          -1       -1    270      2         12  \n",
       "3         2           6       -1     -2      2          2  \n",
       "4         1           1        2    210      1          0  \n",
       "\n",
       "[5 rows x 37 columns]"
      ]
     },
     "execution_count": 14,
     "metadata": {},
     "output_type": "execute_result"
    }
   ],
   "source": [
    "resp = pd.read_csv('../project/data/ehresp_2014/ehresp_2014.csv')\n",
    "resp.head()\n",
    "#resp.shape"
   ]
  },
  {
   "cell_type": "code",
   "execution_count": 15,
   "metadata": {
    "collapsed": false
   },
   "outputs": [
    {
     "data": {
      "text/html": [
       "<div>\n",
       "<table border=\"1\" class=\"dataframe\">\n",
       "  <thead>\n",
       "    <tr style=\"text-align: right;\">\n",
       "      <th></th>\n",
       "      <th>tucaseid</th>\n",
       "      <th>tulineno</th>\n",
       "      <th>eeincome1</th>\n",
       "      <th>erbmi</th>\n",
       "      <th>erhhch</th>\n",
       "      <th>erincome</th>\n",
       "      <th>erspemch</th>\n",
       "      <th>ertpreat</th>\n",
       "      <th>ertseat</th>\n",
       "      <th>ethgt</th>\n",
       "      <th>...</th>\n",
       "      <th>eumeat</th>\n",
       "      <th>eumilk</th>\n",
       "      <th>euprpmel</th>\n",
       "      <th>eusoda</th>\n",
       "      <th>eustores</th>\n",
       "      <th>eustreason</th>\n",
       "      <th>eutherm</th>\n",
       "      <th>euwgt</th>\n",
       "      <th>euwic</th>\n",
       "      <th>exincome1</th>\n",
       "    </tr>\n",
       "  </thead>\n",
       "  <tbody>\n",
       "    <tr>\n",
       "      <th>count</th>\n",
       "      <td>1.121200e+04</td>\n",
       "      <td>11212.0</td>\n",
       "      <td>11212.000000</td>\n",
       "      <td>11212.000000</td>\n",
       "      <td>11212.000000</td>\n",
       "      <td>11212.000000</td>\n",
       "      <td>11212.000000</td>\n",
       "      <td>11212.000000</td>\n",
       "      <td>11212.000000</td>\n",
       "      <td>11212.000000</td>\n",
       "      <td>...</td>\n",
       "      <td>11212.000000</td>\n",
       "      <td>11212.000000</td>\n",
       "      <td>11212.000000</td>\n",
       "      <td>11212.000000</td>\n",
       "      <td>11212.000000</td>\n",
       "      <td>11212.000000</td>\n",
       "      <td>11212.000000</td>\n",
       "      <td>11212.000000</td>\n",
       "      <td>11212.000000</td>\n",
       "      <td>11212.000000</td>\n",
       "    </tr>\n",
       "    <tr>\n",
       "      <th>mean</th>\n",
       "      <td>2.014066e+13</td>\n",
       "      <td>1.0</td>\n",
       "      <td>1.293525</td>\n",
       "      <td>26.291250</td>\n",
       "      <td>2.885212</td>\n",
       "      <td>2.036479</td>\n",
       "      <td>1.872547</td>\n",
       "      <td>65.678113</td>\n",
       "      <td>16.759900</td>\n",
       "      <td>-0.003122</td>\n",
       "      <td>...</td>\n",
       "      <td>0.529344</td>\n",
       "      <td>1.157867</td>\n",
       "      <td>1.464592</td>\n",
       "      <td>0.738494</td>\n",
       "      <td>0.788887</td>\n",
       "      <td>1.366572</td>\n",
       "      <td>0.844006</td>\n",
       "      <td>168.182572</td>\n",
       "      <td>0.512130</td>\n",
       "      <td>4.475027</td>\n",
       "    </tr>\n",
       "    <tr>\n",
       "      <th>std</th>\n",
       "      <td>3.456735e+08</td>\n",
       "      <td>0.0</td>\n",
       "      <td>0.845532</td>\n",
       "      <td>8.737788</td>\n",
       "      <td>0.443716</td>\n",
       "      <td>1.694437</td>\n",
       "      <td>2.915099</td>\n",
       "      <td>48.080541</td>\n",
       "      <td>50.643598</td>\n",
       "      <td>0.182376</td>\n",
       "      <td>...</td>\n",
       "      <td>0.985731</td>\n",
       "      <td>1.338405</td>\n",
       "      <td>0.691768</td>\n",
       "      <td>1.285256</td>\n",
       "      <td>1.301327</td>\n",
       "      <td>1.872375</td>\n",
       "      <td>1.408404</td>\n",
       "      <td>56.893436</td>\n",
       "      <td>1.481951</td>\n",
       "      <td>17.634628</td>\n",
       "    </tr>\n",
       "    <tr>\n",
       "      <th>min</th>\n",
       "      <td>2.014010e+13</td>\n",
       "      <td>1.0</td>\n",
       "      <td>-3.000000</td>\n",
       "      <td>-1.000000</td>\n",
       "      <td>1.000000</td>\n",
       "      <td>-1.000000</td>\n",
       "      <td>-1.000000</td>\n",
       "      <td>0.000000</td>\n",
       "      <td>-3.000000</td>\n",
       "      <td>-1.000000</td>\n",
       "      <td>...</td>\n",
       "      <td>-2.000000</td>\n",
       "      <td>-3.000000</td>\n",
       "      <td>-3.000000</td>\n",
       "      <td>-2.000000</td>\n",
       "      <td>-3.000000</td>\n",
       "      <td>-3.000000</td>\n",
       "      <td>-3.000000</td>\n",
       "      <td>-5.000000</td>\n",
       "      <td>-3.000000</td>\n",
       "      <td>-1.000000</td>\n",
       "    </tr>\n",
       "    <tr>\n",
       "      <th>25%</th>\n",
       "      <td>2.014030e+13</td>\n",
       "      <td>1.0</td>\n",
       "      <td>1.000000</td>\n",
       "      <td>23.000000</td>\n",
       "      <td>3.000000</td>\n",
       "      <td>1.000000</td>\n",
       "      <td>-1.000000</td>\n",
       "      <td>30.000000</td>\n",
       "      <td>0.000000</td>\n",
       "      <td>0.000000</td>\n",
       "      <td>...</td>\n",
       "      <td>-1.000000</td>\n",
       "      <td>-1.000000</td>\n",
       "      <td>1.000000</td>\n",
       "      <td>-1.000000</td>\n",
       "      <td>-1.000000</td>\n",
       "      <td>-1.000000</td>\n",
       "      <td>-1.000000</td>\n",
       "      <td>140.000000</td>\n",
       "      <td>-1.000000</td>\n",
       "      <td>0.000000</td>\n",
       "    </tr>\n",
       "    <tr>\n",
       "      <th>50%</th>\n",
       "      <td>2.014061e+13</td>\n",
       "      <td>1.0</td>\n",
       "      <td>1.000000</td>\n",
       "      <td>26.500000</td>\n",
       "      <td>3.000000</td>\n",
       "      <td>1.000000</td>\n",
       "      <td>1.000000</td>\n",
       "      <td>60.000000</td>\n",
       "      <td>3.000000</td>\n",
       "      <td>0.000000</td>\n",
       "      <td>...</td>\n",
       "      <td>1.000000</td>\n",
       "      <td>2.000000</td>\n",
       "      <td>1.000000</td>\n",
       "      <td>1.000000</td>\n",
       "      <td>1.000000</td>\n",
       "      <td>1.000000</td>\n",
       "      <td>2.000000</td>\n",
       "      <td>168.000000</td>\n",
       "      <td>1.000000</td>\n",
       "      <td>0.000000</td>\n",
       "    </tr>\n",
       "    <tr>\n",
       "      <th>75%</th>\n",
       "      <td>2.014091e+13</td>\n",
       "      <td>1.0</td>\n",
       "      <td>2.000000</td>\n",
       "      <td>30.400000</td>\n",
       "      <td>3.000000</td>\n",
       "      <td>3.000000</td>\n",
       "      <td>5.000000</td>\n",
       "      <td>90.000000</td>\n",
       "      <td>15.000000</td>\n",
       "      <td>0.000000</td>\n",
       "      <td>...</td>\n",
       "      <td>1.000000</td>\n",
       "      <td>2.000000</td>\n",
       "      <td>2.000000</td>\n",
       "      <td>2.000000</td>\n",
       "      <td>1.000000</td>\n",
       "      <td>2.000000</td>\n",
       "      <td>2.000000</td>\n",
       "      <td>200.000000</td>\n",
       "      <td>2.000000</td>\n",
       "      <td>0.000000</td>\n",
       "    </tr>\n",
       "    <tr>\n",
       "      <th>max</th>\n",
       "      <td>2.014121e+13</td>\n",
       "      <td>1.0</td>\n",
       "      <td>3.000000</td>\n",
       "      <td>73.599998</td>\n",
       "      <td>3.000000</td>\n",
       "      <td>5.000000</td>\n",
       "      <td>5.000000</td>\n",
       "      <td>508.000000</td>\n",
       "      <td>990.000000</td>\n",
       "      <td>2.000000</td>\n",
       "      <td>...</td>\n",
       "      <td>2.000000</td>\n",
       "      <td>2.000000</td>\n",
       "      <td>3.000000</td>\n",
       "      <td>2.000000</td>\n",
       "      <td>5.000000</td>\n",
       "      <td>6.000000</td>\n",
       "      <td>2.000000</td>\n",
       "      <td>340.000000</td>\n",
       "      <td>2.000000</td>\n",
       "      <td>87.000000</td>\n",
       "    </tr>\n",
       "  </tbody>\n",
       "</table>\n",
       "<p>8 rows × 37 columns</p>\n",
       "</div>"
      ],
      "text/plain": [
       "           tucaseid  tulineno     eeincome1         erbmi        erhhch  \\\n",
       "count  1.121200e+04   11212.0  11212.000000  11212.000000  11212.000000   \n",
       "mean   2.014066e+13       1.0      1.293525     26.291250      2.885212   \n",
       "std    3.456735e+08       0.0      0.845532      8.737788      0.443716   \n",
       "min    2.014010e+13       1.0     -3.000000     -1.000000      1.000000   \n",
       "25%    2.014030e+13       1.0      1.000000     23.000000      3.000000   \n",
       "50%    2.014061e+13       1.0      1.000000     26.500000      3.000000   \n",
       "75%    2.014091e+13       1.0      2.000000     30.400000      3.000000   \n",
       "max    2.014121e+13       1.0      3.000000     73.599998      3.000000   \n",
       "\n",
       "           erincome      erspemch      ertpreat       ertseat         ethgt  \\\n",
       "count  11212.000000  11212.000000  11212.000000  11212.000000  11212.000000   \n",
       "mean       2.036479      1.872547     65.678113     16.759900     -0.003122   \n",
       "std        1.694437      2.915099     48.080541     50.643598      0.182376   \n",
       "min       -1.000000     -1.000000      0.000000     -3.000000     -1.000000   \n",
       "25%        1.000000     -1.000000     30.000000      0.000000      0.000000   \n",
       "50%        1.000000      1.000000     60.000000      3.000000      0.000000   \n",
       "75%        3.000000      5.000000     90.000000     15.000000      0.000000   \n",
       "max        5.000000      5.000000    508.000000    990.000000      2.000000   \n",
       "\n",
       "           ...             eumeat        eumilk      euprpmel        eusoda  \\\n",
       "count      ...       11212.000000  11212.000000  11212.000000  11212.000000   \n",
       "mean       ...           0.529344      1.157867      1.464592      0.738494   \n",
       "std        ...           0.985731      1.338405      0.691768      1.285256   \n",
       "min        ...          -2.000000     -3.000000     -3.000000     -2.000000   \n",
       "25%        ...          -1.000000     -1.000000      1.000000     -1.000000   \n",
       "50%        ...           1.000000      2.000000      1.000000      1.000000   \n",
       "75%        ...           1.000000      2.000000      2.000000      2.000000   \n",
       "max        ...           2.000000      2.000000      3.000000      2.000000   \n",
       "\n",
       "           eustores    eustreason       eutherm         euwgt         euwic  \\\n",
       "count  11212.000000  11212.000000  11212.000000  11212.000000  11212.000000   \n",
       "mean       0.788887      1.366572      0.844006    168.182572      0.512130   \n",
       "std        1.301327      1.872375      1.408404     56.893436      1.481951   \n",
       "min       -3.000000     -3.000000     -3.000000     -5.000000     -3.000000   \n",
       "25%       -1.000000     -1.000000     -1.000000    140.000000     -1.000000   \n",
       "50%        1.000000      1.000000      2.000000    168.000000      1.000000   \n",
       "75%        1.000000      2.000000      2.000000    200.000000      2.000000   \n",
       "max        5.000000      6.000000      2.000000    340.000000      2.000000   \n",
       "\n",
       "          exincome1  \n",
       "count  11212.000000  \n",
       "mean       4.475027  \n",
       "std       17.634628  \n",
       "min       -1.000000  \n",
       "25%        0.000000  \n",
       "50%        0.000000  \n",
       "75%        0.000000  \n",
       "max       87.000000  \n",
       "\n",
       "[8 rows x 37 columns]"
      ]
     },
     "execution_count": 15,
     "metadata": {},
     "output_type": "execute_result"
    }
   ],
   "source": [
    "resp.describe()"
   ]
  },
  {
   "cell_type": "code",
   "execution_count": 17,
   "metadata": {
    "collapsed": false
   },
   "outputs": [
    {
     "name": "stdout",
     "output_type": "stream",
     "text": [
      "<class 'pandas.core.series.Series'>\n",
      " 1    6990\n",
      " 2    3454\n",
      " 3     452\n",
      "-2     155\n",
      "-3     140\n",
      "-1      21\n",
      "Name: eeincome1, dtype: int64\n"
     ]
    }
   ],
   "source": [
    "print type(resp.eeincome1)\n",
    "print resp.eeincome1.value_counts()"
   ]
  },
  {
   "cell_type": "code",
   "execution_count": 11,
   "metadata": {
    "collapsed": false
   },
   "outputs": [
    {
     "ename": "AttributeError",
     "evalue": "'int' object has no attribute 'eeincome1'",
     "output_type": "error",
     "traceback": [
      "\u001b[0;31m---------------------------------------------------------------------------\u001b[0m",
      "\u001b[0;31mAttributeError\u001b[0m                            Traceback (most recent call last)",
      "\u001b[0;32m<ipython-input-11-4afa885ef66b>\u001b[0m in \u001b[0;36m<module>\u001b[0;34m()\u001b[0m\n\u001b[0;32m----> 1\u001b[0;31m \u001b[0mresp\u001b[0m \u001b[0;34m=\u001b[0m \u001b[0mresp\u001b[0m\u001b[0;34m.\u001b[0m\u001b[0meeincome1\u001b[0m\u001b[0;34m[\u001b[0m\u001b[0mresp\u001b[0m\u001b[0;34m.\u001b[0m\u001b[0meeincome1\u001b[0m \u001b[0;34m<\u001b[0m \u001b[0;36m0\u001b[0m\u001b[0;34m]\u001b[0m \u001b[0;34m=\u001b[0m \u001b[0;36m0\u001b[0m\u001b[0;34m\u001b[0m\u001b[0m\n\u001b[0m",
      "\u001b[0;31mAttributeError\u001b[0m: 'int' object has no attribute 'eeincome1'"
     ]
    }
   ],
   "source": [
    "resp = resp.eeincome1[resp.eeincome1 < 0] = 0\n"
   ]
  },
  {
   "cell_type": "code",
   "execution_count": 7,
   "metadata": {
    "collapsed": false
   },
   "outputs": [
    {
     "ename": "AttributeError",
     "evalue": "'int' object has no attribute 'head'",
     "output_type": "error",
     "traceback": [
      "\u001b[0;31m---------------------------------------------------------------------------\u001b[0m",
      "\u001b[0;31mAttributeError\u001b[0m                            Traceback (most recent call last)",
      "\u001b[0;32m<ipython-input-7-3be476795673>\u001b[0m in \u001b[0;36m<module>\u001b[0;34m()\u001b[0m\n\u001b[0;32m----> 1\u001b[0;31m \u001b[0mresp\u001b[0m\u001b[0;34m.\u001b[0m\u001b[0mhead\u001b[0m\u001b[0;34m(\u001b[0m\u001b[0;34m)\u001b[0m\u001b[0;34m\u001b[0m\u001b[0m\n\u001b[0m",
      "\u001b[0;31mAttributeError\u001b[0m: 'int' object has no attribute 'head'"
     ]
    }
   ],
   "source": [
    "resp.head()"
   ]
  },
  {
   "cell_type": "code",
   "execution_count": null,
   "metadata": {
    "collapsed": false
   },
   "outputs": [],
   "source": [
    "resp.eeincome1.value_counts()"
   ]
  },
  {
   "cell_type": "code",
   "execution_count": null,
   "metadata": {
    "collapsed": true
   },
   "outputs": [],
   "source": [
    "re.boxplot(column='age', by='outcome')"
   ]
  },
  {
   "cell_type": "code",
   "execution_count": null,
   "metadata": {
    "collapsed": false
   },
   "outputs": [],
   "source": [
    "resp.boxplot(column='erbmi', by='eeincome1')\n",
    "\n",
    "# n, bins, patches = plt.hist(resp.erbmi, 50, normed=1)\n",
    "# mu = np.mean(resp.erbmi)\n",
    "# sigma = np.std(resp.erbmi)\n",
    "# plt.plot(bins, plt.mlab.normpdf(bins, mu, sigma))"
   ]
  },
  {
   "cell_type": "code",
   "execution_count": null,
   "metadata": {
    "collapsed": false
   },
   "outputs": [],
   "source": [
    "resp.ertpreat.bo"
   ]
  },
  {
   "cell_type": "code",
   "execution_count": null,
   "metadata": {
    "collapsed": false
   },
   "outputs": [],
   "source": [
    "resp.isnull().sum()"
   ]
  },
  {
   "cell_type": "code",
   "execution_count": null,
   "metadata": {
    "collapsed": false
   },
   "outputs": [],
   "source": [
    "resp_bmi_seat = resp[['erbmi', 'ertseat']]\n",
    "resp_bmi_seat = resp_bmi_seat[resp_bmi_seat.erbmi != -1]\n",
    "# resp_bmi_seat.erbmi.value_counts()"
   ]
  },
  {
   "cell_type": "code",
   "execution_count": null,
   "metadata": {
    "collapsed": false
   },
   "outputs": [],
   "source": [
    "x = resp_bmi_seat.erbmi\n",
    "y = resp_bmi_seat.ertseat\n",
    "plt_hist = resp_bmi_seat.erbmi.hist(bins=40)\n",
    "print plt_hist"
   ]
  },
  {
   "cell_type": "code",
   "execution_count": null,
   "metadata": {
    "collapsed": false
   },
   "outputs": [],
   "source": [
    "resp_bmi.describe()"
   ]
  },
  {
   "cell_type": "code",
   "execution_count": null,
   "metadata": {
    "collapsed": false
   },
   "outputs": [],
   "source": [
    "scipy.stats.ttest_1samp(resp_bmi.erbmi, resp_bmi.erbmi.mean())"
   ]
  },
  {
   "cell_type": "code",
   "execution_count": null,
   "metadata": {
    "collapsed": false
   },
   "outputs": [],
   "source": [
    "resp_bmi = resp[['erbmi', 'ertpreat', 'ertseat']]\n",
    "resp_bmi = resp_bmi[resp_bmi.erbmi != -1]\n",
    "\n",
    "sns.pairplot(resp_bmi, x_vars='ertpreat', y_vars='ertseat', size=6, aspect=0.7)"
   ]
  },
  {
   "cell_type": "code",
   "execution_count": null,
   "metadata": {
    "collapsed": false
   },
   "outputs": [],
   "source": [
    "resp_bmi_50 = resp_bmi[resp_bmi.erbmi >50]\n",
    "\n",
    "resp_bmi_50.erbmi.value_counts()"
   ]
  },
  {
   "cell_type": "code",
   "execution_count": null,
   "metadata": {
    "collapsed": false
   },
   "outputs": [],
   "source": [
    "resp_bmi['bmi'] = resp_bmi.erbmi.apply(lambda x: np.round(x))\n",
    "resp_bmi.bmi.hist(bins=40)"
   ]
  },
  {
   "cell_type": "code",
   "execution_count": null,
   "metadata": {
    "collapsed": false
   },
   "outputs": [],
   "source": [
    "resp_bmi.describe()"
   ]
  },
  {
   "cell_type": "code",
   "execution_count": null,
   "metadata": {
    "collapsed": false
   },
   "outputs": [],
   "source": [
    "x = resp_bmi.bmi\n",
    "y = resp_bmi.ertpreat\n",
    "plt.scatter(x, y)\n",
    "plt.show()"
   ]
  },
  {
   "cell_type": "code",
   "execution_count": null,
   "metadata": {
    "collapsed": false
   },
   "outputs": [],
   "source": [
    "n, bins, patches = plt.hist(resp_bmi.erbmi, 50, normed=1)\n",
    "mu = np.mean(resp_bmi.erbmi)\n",
    "sigma = np.std(resp_bmi.erbmi)\n",
    "plt.plot(bins, plt.mlab.normpdf(bins, mu, sigma))"
   ]
  },
  {
   "cell_type": "code",
   "execution_count": null,
   "metadata": {
    "collapsed": false
   },
   "outputs": [],
   "source": [
    "resp_bmi.hist()\n"
   ]
  },
  {
   "cell_type": "code",
   "execution_count": null,
   "metadata": {
    "collapsed": false
   },
   "outputs": [],
   "source": [
    "#resp_bmi.groupby('erbmi').hist()"
   ]
  },
  {
   "cell_type": "code",
   "execution_count": null,
   "metadata": {
    "collapsed": false
   },
   "outputs": [],
   "source": [
    "scipy.stats.normaltest(resp_bmi.erbmi)"
   ]
  },
  {
   "cell_type": "code",
   "execution_count": null,
   "metadata": {
    "collapsed": false
   },
   "outputs": [],
   "source": [
    "resp_bmi_reat = resp[['erbmi', 'ertpreat']]\n",
    "resp_bmi_reat = resp_bmi_reat[resp_bmi_reat.erbmi != -1]\n",
    "# resp_bmi_seat.erbmi.value_counts()"
   ]
  },
  {
   "cell_type": "code",
   "execution_count": null,
   "metadata": {
    "collapsed": false
   },
   "outputs": [],
   "source": [
    "x = resp_bmi_reat.erbmi\n",
    "y = resp_bmi_reat.ertpreat\n",
    "plt_hist = resp_bmi_reat.erbmi.hist(bins=40)\n",
    "print plt_hist"
   ]
  },
  {
   "cell_type": "code",
   "execution_count": null,
   "metadata": {
    "collapsed": false
   },
   "outputs": [],
   "source": [
    "resp_bmi_stores = resp[['erbmi', 'eustores']]\n",
    "resp_bmi_stores = resp_bmi_stores[resp_bmi_stores.erbmi != -1]\n",
    "# resp_bmi_seat.erbmi.value_counts()\n",
    "\n",
    "x = resp_bmi_stores.erbmi\n",
    "y = resp_bmi_stores.eustores\n",
    "plt_hist = resp_bmi_stores.erbmi.hist(bins=40)\n",
    "print plt_hist"
   ]
  },
  {
   "cell_type": "code",
   "execution_count": null,
   "metadata": {
    "collapsed": false
   },
   "outputs": [],
   "source": [
    "act = pd.read_csv('../project/data/ehact_2014/ehact_2014.csv')\n",
    "act.head()\n",
    "#act.shape"
   ]
  },
  {
   "cell_type": "code",
   "execution_count": null,
   "metadata": {
    "collapsed": false
   },
   "outputs": [],
   "source": [
    "wgts = pd.read_csv('../project/data/ehwgts_2014/ehwgts_2014.csv')\n",
    "wgts.head()\n",
    "#wgts.shape"
   ]
  },
  {
   "cell_type": "code",
   "execution_count": null,
   "metadata": {
    "collapsed": false
   },
   "outputs": [],
   "source": [
    "wgts.columns"
   ]
  },
  {
   "cell_type": "code",
   "execution_count": null,
   "metadata": {
    "collapsed": false
   },
   "outputs": [],
   "source": [
    "merge_act_wgts = pd.merge(act, wgts, on=['tucaseid'], how='left')\n",
    "df = pd.merge(resp, merge_act_wgts, on=['tucaseid'], how='left')\n",
    "df.head()\n",
    "df.shape"
   ]
  },
  {
   "cell_type": "code",
   "execution_count": null,
   "metadata": {
    "collapsed": false
   },
   "outputs": [],
   "source": [
    "resp.columns"
   ]
  },
  {
   "cell_type": "code",
   "execution_count": null,
   "metadata": {
    "collapsed": false
   },
   "outputs": [],
   "source": [
    "df.erbmi.describe()"
   ]
  },
  {
   "cell_type": "code",
   "execution_count": null,
   "metadata": {
    "collapsed": true
   },
   "outputs": [],
   "source": []
  },
  {
   "cell_type": "code",
   "execution_count": null,
   "metadata": {
    "collapsed": false
   },
   "outputs": [],
   "source": [
    "df.erbmi.hist(bins=40)"
   ]
  },
  {
   "cell_type": "code",
   "execution_count": null,
   "metadata": {
    "collapsed": false
   },
   "outputs": [],
   "source": [
    "df.ertpreat.hist(bins=40)"
   ]
  },
  {
   "cell_type": "code",
   "execution_count": null,
   "metadata": {
    "collapsed": false
   },
   "outputs": [],
   "source": [
    "df.ertseat.hist(bins=40)"
   ]
  },
  {
   "cell_type": "code",
   "execution_count": null,
   "metadata": {
    "collapsed": false
   },
   "outputs": [],
   "source": [
    "resp_1 = resp[['erbmi', 'ertpreat', 'ertseat', 'eudrink', 'eusoda', 'euexercise', 'euexfreq']]\n",
    "resp_1.head()"
   ]
  },
  {
   "cell_type": "code",
   "execution_count": null,
   "metadata": {
    "collapsed": false
   },
   "outputs": [],
   "source": [
    "resp_1 = resp_1[resp_1.eudrink != -2]\n",
    "\n",
    "resp_1.eudrink.value_counts()\n"
   ]
  },
  {
   "cell_type": "code",
   "execution_count": null,
   "metadata": {
    "collapsed": false
   },
   "outputs": [],
   "source": [
    "resp_1 = resp_1[resp_1.eudrink !=-3]\n",
    "\n",
    "resp_1.eudrink.value_counts()"
   ]
  },
  {
   "cell_type": "code",
   "execution_count": null,
   "metadata": {
    "collapsed": false
   },
   "outputs": [],
   "source": [
    "print resp_1.eusoda.value_counts()\n",
    "print resp_1.euexercise.value_counts()\n",
    "print resp_1.euexfreq.value_counts()"
   ]
  },
  {
   "cell_type": "code",
   "execution_count": null,
   "metadata": {
    "collapsed": false
   },
   "outputs": [],
   "source": [
    "resp_1 = resp_1[resp_1.eusoda !=-1]\n",
    "resp_1 = resp_1[resp_1.eusoda !=-2]\n",
    "resp_1 = resp_1[resp_1.euexercise !=-1]\n",
    "resp_1 = resp_1[resp_1.euexercise !=-2]\n",
    "resp_1 = resp_1[resp_1.euexercise !=-3]\n",
    "\n",
    "print resp_1.eusoda.value_counts()\n",
    "print resp_1.euexercise.value_counts()"
   ]
  },
  {
   "cell_type": "code",
   "execution_count": null,
   "metadata": {
    "collapsed": false
   },
   "outputs": [],
   "source": [
    "print resp_1.ertpreat.value_counts(resp_1.ertpreat == 0)"
   ]
  },
  {
   "cell_type": "code",
   "execution_count": null,
   "metadata": {
    "collapsed": false
   },
   "outputs": [],
   "source": [
    "# resp_2 = resp_1[['erbmi', 'eusoda', 'euexercise']]\n",
    "# X, y = resp_2.drop('erbmi', axis = 1), resp_2['erbmi']\n",
    "# knn = KNeighborsClassifier(n_neighbors=3)\n",
    "# knn.fit(X, y)\n",
    "# knn.score(X, y)"
   ]
  },
  {
   "cell_type": "code",
   "execution_count": null,
   "metadata": {
    "collapsed": false
   },
   "outputs": [],
   "source": [
    "sns.pairplot(resp_1, x_vars=['ertpreat','ertseat'], y_vars='erbmi', size=6, aspect=0.7)"
   ]
  },
  {
   "cell_type": "code",
   "execution_count": null,
   "metadata": {
    "collapsed": true
   },
   "outputs": [],
   "source": []
  },
  {
   "cell_type": "code",
   "execution_count": null,
   "metadata": {
    "collapsed": true
   },
   "outputs": [],
   "source": []
  },
  {
   "cell_type": "code",
   "execution_count": null,
   "metadata": {
    "collapsed": true
   },
   "outputs": [],
   "source": []
  }
 ],
 "metadata": {
  "anaconda-cloud": {},
  "kernelspec": {
   "display_name": "Python [conda env:testenv]",
   "language": "python",
   "name": "conda-env-testenv-py"
  },
  "language_info": {
   "codemirror_mode": {
    "name": "ipython",
    "version": 2
   },
   "file_extension": ".py",
   "mimetype": "text/x-python",
   "name": "python",
   "nbconvert_exporter": "python",
   "pygments_lexer": "ipython2",
   "version": "2.7.12"
  }
 },
 "nbformat": 4,
 "nbformat_minor": 1
}
