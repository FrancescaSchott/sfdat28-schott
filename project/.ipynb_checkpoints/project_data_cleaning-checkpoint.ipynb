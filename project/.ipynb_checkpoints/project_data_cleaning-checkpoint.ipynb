{
 "cells": [
  {
   "cell_type": "code",
   "execution_count": 39,
   "metadata": {
    "collapsed": false
   },
   "outputs": [],
   "source": [
    "import pandas as pd\n",
    "\n",
    "resp = pd.read_csv('../project/data/ehresp_2014/ehresp_2014.csv')\n",
    "atus = pd.read_csv('../project/data/atus_2014.csv')"
   ]
  },
  {
   "cell_type": "code",
   "execution_count": 40,
   "metadata": {
    "collapsed": true
   },
   "outputs": [],
   "source": [
    "#resp.head()"
   ]
  },
  {
   "cell_type": "code",
   "execution_count": 41,
   "metadata": {
    "collapsed": false
   },
   "outputs": [],
   "source": [
    "#atus.head()"
   ]
  },
  {
   "cell_type": "code",
   "execution_count": 42,
   "metadata": {
    "collapsed": false
   },
   "outputs": [],
   "source": [
    "atus_test = atus[['TUCASEID', 'TRERNWA', 'TRMJIND1', 'TRMJOCGR', 'TELFS', 'TREMODR', 'TRNUMHOU']]\n",
    "\n",
    "atus_test.rename(columns={'TUCASEID':'tucaseid',\n",
    "                         'TRERNWA':'weekly_earnings',\n",
    "                         'TRMJIND1':'maj_ind',\n",
    "                         'TRMJOCGR':'cat_occ',\n",
    "                         'TELFS':'labor_status',\n",
    "                         'TREMODR':'eh_resp',\n",
    "                         'TRNUMHOU':'household_number'},\n",
    "                 inplace=True)"
   ]
  },
  {
   "cell_type": "code",
   "execution_count": 43,
   "metadata": {
    "collapsed": false
   },
   "outputs": [],
   "source": [
    "resp = pd.merge(resp, atus_test, on=['tucaseid'], how='left')\n",
    "\n",
    "#resp.head()"
   ]
  },
  {
   "cell_type": "code",
   "execution_count": 44,
   "metadata": {
    "collapsed": false
   },
   "outputs": [
    {
     "name": "stdout",
     "output_type": "stream",
     "text": [
      "Index([u'tucaseid', u'tulineno', u'eeincome1', u'erbmi', u'erhhch',\n",
      "       u'erincome', u'erspemch', u'ertpreat', u'ertseat', u'ethgt', u'etwgt',\n",
      "       u'eudietsoda', u'eudrink', u'eueat', u'euexercise', u'euexfreq',\n",
      "       u'eufastfd', u'eufastfdfrq', u'euffyday', u'eufdsit', u'eufinlwgt',\n",
      "       u'eusnap', u'eugenhth', u'eugroshp', u'euhgt', u'euinclvl',\n",
      "       u'euincome2', u'eumeat', u'eumilk', u'euprpmel', u'eusoda', u'eustores',\n",
      "       u'eustreason', u'eutherm', u'euwgt', u'euwic', u'exincome1',\n",
      "       u'weekly_earnings', u'maj_ind', u'cat_occ', u'labor_status', u'eh_resp',\n",
      "       u'household_number'],\n",
      "      dtype='object')\n"
     ]
    }
   ],
   "source": [
    "print resp.columns"
   ]
  },
  {
   "cell_type": "code",
   "execution_count": 45,
   "metadata": {
    "collapsed": true
   },
   "outputs": [],
   "source": [
    "resp.rename(columns={'erbmi':'bmi', \n",
    "                     'ertpreat':'primary_eating', \n",
    "                     'ertseat':'secondary_eating', \n",
    "                     'euexercise':'exercise', \n",
    "                     'eufastfd':'fast_food',\n",
    "                     'eufdsit':'food_amount',\n",
    "                     'euinclvl':'income_14_15',\n",
    "                     'erincome':'income_lvl',\n",
    "                     'eusoda':'drink_soda',\n",
    "                     'eustores':'stores'\n",
    "                     },\n",
    "            inplace=True)                    "
   ]
  },
  {
   "cell_type": "code",
   "execution_count": 46,
   "metadata": {
    "collapsed": false
   },
   "outputs": [],
   "source": [
    "resp.drop(['eeincome1', \n",
    "           'erhhch',\n",
    "           'eudietsoda',\n",
    "           'eudrink',\n",
    "           'eueat',\n",
    "           'euexfreq',\n",
    "           'eufastfdfrq',\n",
    "           'euincome2', \n",
    "           'erspemch', \n",
    "           'ethgt', \n",
    "           'etwgt', \n",
    "           'euffyday', \n",
    "           'eufinlwgt', \n",
    "           'eusnap', \n",
    "           'eugenhth',\n",
    "           'eugroshp',\n",
    "           'euhgt',\n",
    "           'eumeat',\n",
    "           'eumilk',\n",
    "           'euprpmel',\n",
    "           'eustreason',\n",
    "           'eutherm',\n",
    "           'euwgt',\n",
    "           'euwic',\n",
    "           'exincome1'\n",
    "          ], axis=1, inplace=True)"
   ]
  },
  {
   "cell_type": "code",
   "execution_count": 47,
   "metadata": {
    "collapsed": false
   },
   "outputs": [
    {
     "data": {
      "text/plain": [
       "(11212, 18)"
      ]
     },
     "execution_count": 47,
     "metadata": {},
     "output_type": "execute_result"
    }
   ],
   "source": [
    "resp.shape"
   ]
  },
  {
   "cell_type": "code",
   "execution_count": 48,
   "metadata": {
    "collapsed": false
   },
   "outputs": [
    {
     "data": {
      "text/plain": [
       "5    9232\n",
       "6    1980\n",
       "Name: income_14_15, dtype: int64"
      ]
     },
     "execution_count": 48,
     "metadata": {},
     "output_type": "execute_result"
    }
   ],
   "source": [
    "resp.income_14_15.value_counts()"
   ]
  },
  {
   "cell_type": "code",
   "execution_count": 49,
   "metadata": {
    "collapsed": false
   },
   "outputs": [],
   "source": [
    "resp = resp[resp['income_14_15'] == 5]\n",
    "resp = resp[resp['household_number'] == 1]\n",
    "resp = resp[resp['labor_status'] == 1]\n",
    "resp = resp.drop(['tucaseid', 'tulineno', 'income_14_15', 'eh_resp', 'labor_status', 'household_number'], axis=1)"
   ]
  },
  {
   "cell_type": "code",
   "execution_count": 50,
   "metadata": {
    "collapsed": false
   },
   "outputs": [
    {
     "data": {
      "text/plain": [
       "(1158, 12)"
      ]
     },
     "execution_count": 50,
     "metadata": {},
     "output_type": "execute_result"
    }
   ],
   "source": [
    "resp.shape"
   ]
  },
  {
   "cell_type": "code",
   "execution_count": 51,
   "metadata": {
    "collapsed": false
   },
   "outputs": [
    {
     "name": "stdout",
     "output_type": "stream",
     "text": [
      " 1    869\n",
      " 5    136\n",
      " 3     95\n",
      " 2     50\n",
      "-1      8\n",
      "Name: income_lvl, dtype: int64\n",
      " 1    775\n",
      " 2    378\n",
      "-1      3\n",
      "-2      1\n",
      "-3      1\n",
      "Name: exercise, dtype: int64\n",
      " 1    1089\n",
      " 2      46\n",
      " 3      17\n",
      "-1       3\n",
      "-2       2\n",
      "-3       1\n",
      "Name: food_amount, dtype: int64\n"
     ]
    }
   ],
   "source": [
    "print resp.income_lvl.value_counts()\n",
    "print resp.exercise.value_counts()\n",
    "print resp.food_amount.value_counts()"
   ]
  },
  {
   "cell_type": "code",
   "execution_count": 52,
   "metadata": {
    "collapsed": false
   },
   "outputs": [],
   "source": [
    "resp.income_lvl.replace([1, 2, 5], [5, 4, 1], inplace=True)\n",
    "resp.exercise.replace([1, 2], [2,1], inplace=True)\n",
    "resp.food_amount.replace([1, 3], [3, 1], inplace=True)"
   ]
  },
  {
   "cell_type": "code",
   "execution_count": 53,
   "metadata": {
    "collapsed": false
   },
   "outputs": [
    {
     "name": "stdout",
     "output_type": "stream",
     "text": [
      " 5    869\n",
      " 1    136\n",
      " 3     95\n",
      " 4     50\n",
      "-1      8\n",
      "Name: income_lvl, dtype: int64\n",
      " 2    775\n",
      " 1    378\n",
      "-1      3\n",
      "-2      1\n",
      "-3      1\n",
      "Name: exercise, dtype: int64\n",
      " 3    1089\n",
      " 2      46\n",
      " 1      17\n",
      "-1       3\n",
      "-2       2\n",
      "-3       1\n",
      "Name: food_amount, dtype: int64\n"
     ]
    }
   ],
   "source": [
    "print resp.income_lvl.value_counts()\n",
    "print resp.exercise.value_counts()\n",
    "print resp.food_amount.value_counts()"
   ]
  },
  {
   "cell_type": "code",
   "execution_count": 54,
   "metadata": {
    "collapsed": false
   },
   "outputs": [
    {
     "data": {
      "text/plain": [
       "bmi                  60\n",
       "income_lvl            8\n",
       "primary_eating        0\n",
       "secondary_eating      5\n",
       "exercise              5\n",
       "fast_food             4\n",
       "food_amount           6\n",
       "drink_soda          369\n",
       "stores               27\n",
       "weekly_earnings     136\n",
       "maj_ind               0\n",
       "cat_occ               0\n",
       "dtype: int64"
      ]
     },
     "execution_count": 54,
     "metadata": {},
     "output_type": "execute_result"
    }
   ],
   "source": [
    "resp.where(resp>=0, None, inplace=True)\n",
    "\n",
    "resp.isnull().sum()"
   ]
  },
  {
   "cell_type": "code",
   "execution_count": 55,
   "metadata": {
    "collapsed": false
   },
   "outputs": [
    {
     "data": {
      "text/plain": [
       "bmi                 0\n",
       "income_lvl          0\n",
       "primary_eating      0\n",
       "secondary_eating    0\n",
       "exercise            0\n",
       "fast_food           0\n",
       "food_amount         0\n",
       "drink_soda          0\n",
       "stores              0\n",
       "weekly_earnings     0\n",
       "maj_ind             0\n",
       "cat_occ             0\n",
       "dtype: int64"
      ]
     },
     "execution_count": 55,
     "metadata": {},
     "output_type": "execute_result"
    }
   ],
   "source": [
    "resp.bmi.fillna(resp.bmi.mean(), inplace=True)\n",
    "resp.income_lvl.fillna(0, inplace=True)\n",
    "resp.secondary_eating.fillna(round(resp.secondary_eating.mean(), 0), inplace=True)\n",
    "\n",
    "resp.exercise.fillna(0, inplace=True)\n",
    "resp.fast_food.fillna(0, inplace=True)\n",
    "resp.food_amount.fillna(0, inplace=True)\n",
    "resp.drink_soda.fillna(0, inplace=True)\n",
    "resp.stores.fillna(5, inplace=True)\n",
    "resp.weekly_earnings.fillna(resp.weekly_earnings.mean(), inplace=True)\n",
    "\n",
    "resp.isnull().sum()"
   ]
  },
  {
   "cell_type": "code",
   "execution_count": 56,
   "metadata": {
    "collapsed": false
   },
   "outputs": [
    {
     "data": {
      "text/plain": [
       "(1158, 12)"
      ]
     },
     "execution_count": 56,
     "metadata": {},
     "output_type": "execute_result"
    }
   ],
   "source": [
    "resp.shape"
   ]
  },
  {
   "cell_type": "code",
   "execution_count": 57,
   "metadata": {
    "collapsed": true
   },
   "outputs": [],
   "source": [
    "resp.to_csv('../project/data/resp.csv')"
   ]
  },
  {
   "cell_type": "raw",
   "metadata": {},
   "source": []
  }
 ],
 "metadata": {
  "anaconda-cloud": {},
  "kernelspec": {
   "display_name": "Python [conda env:testenv]",
   "language": "python",
   "name": "conda-env-testenv-py"
  },
  "language_info": {
   "codemirror_mode": {
    "name": "ipython",
    "version": 2
   },
   "file_extension": ".py",
   "mimetype": "text/x-python",
   "name": "python",
   "nbconvert_exporter": "python",
   "pygments_lexer": "ipython2",
   "version": "2.7.12"
  }
 },
 "nbformat": 4,
 "nbformat_minor": 1
}
