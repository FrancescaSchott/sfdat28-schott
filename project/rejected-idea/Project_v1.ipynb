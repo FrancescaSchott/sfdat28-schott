{
 "cells": [
  {
   "cell_type": "code",
   "execution_count": 1,
   "metadata": {
    "collapsed": true
   },
   "outputs": [],
   "source": [
    "import pandas as pd\n",
    "import numpy as np\n",
    "import re\n",
    "import matplotlib.pyplot as plt\n",
    "import seaborn as sns\n",
    "%matplotlib inline"
   ]
  },
  {
   "cell_type": "code",
   "execution_count": 2,
   "metadata": {
    "collapsed": false
   },
   "outputs": [
    {
     "data": {
      "text/html": [
       "<div>\n",
       "<table border=\"1\" class=\"dataframe\">\n",
       "  <thead>\n",
       "    <tr style=\"text-align: right;\">\n",
       "      <th></th>\n",
       "      <th>success_rate</th>\n",
       "      <th>company_name</th>\n",
       "      <th>address</th>\n",
       "      <th>city</th>\n",
       "      <th>state</th>\n",
       "      <th>zip</th>\n",
       "      <th>latitude</th>\n",
       "      <th>longitude</th>\n",
       "      <th>employee_count</th>\n",
       "      <th>sales</th>\n",
       "      <th>sic_code</th>\n",
       "      <th>sic_description</th>\n",
       "      <th>naics_code</th>\n",
       "      <th>naics_description</th>\n",
       "      <th>credit_rating</th>\n",
       "      <th>credit_score</th>\n",
       "      <th>home_business</th>\n",
       "      <th>year_est</th>\n",
       "      <th>sq_footage</th>\n",
       "      <th>pc_count</th>\n",
       "    </tr>\n",
       "  </thead>\n",
       "  <tbody>\n",
       "    <tr>\n",
       "      <th>0</th>\n",
       "      <td>1</td>\n",
       "      <td>Deposition Sciences Inc</td>\n",
       "      <td>3300 Coffey Ln</td>\n",
       "      <td>Santa Rosa</td>\n",
       "      <td>CA</td>\n",
       "      <td>95403</td>\n",
       "      <td>38.470623</td>\n",
       "      <td>-122.744092</td>\n",
       "      <td>100.0</td>\n",
       "      <td>$0</td>\n",
       "      <td>3851-03</td>\n",
       "      <td>Optical Goods-Manufacturers</td>\n",
       "      <td>33911505</td>\n",
       "      <td>Ophthalmic Goods Manufacturing</td>\n",
       "      <td>A+</td>\n",
       "      <td>98</td>\n",
       "      <td>No</td>\n",
       "      <td>2004</td>\n",
       "      <td>40,000+</td>\n",
       "      <td>NaN</td>\n",
       "    </tr>\n",
       "    <tr>\n",
       "      <th>1</th>\n",
       "      <td>0</td>\n",
       "      <td>Pac Lease</td>\n",
       "      <td>7667 Conde Ln</td>\n",
       "      <td>Windsor</td>\n",
       "      <td>CA</td>\n",
       "      <td>95492</td>\n",
       "      <td>38.533784</td>\n",
       "      <td>-122.799052</td>\n",
       "      <td>50.0</td>\n",
       "      <td>$19,200,000</td>\n",
       "      <td>7513-03</td>\n",
       "      <td>Truck Renting &amp; Leasing</td>\n",
       "      <td>53212016</td>\n",
       "      <td>Truck, Utility Trailer &amp; Rv Rental &amp; Leasing</td>\n",
       "      <td>B</td>\n",
       "      <td>83</td>\n",
       "      <td>No</td>\n",
       "      <td>2004</td>\n",
       "      <td>10,000 - 39,999</td>\n",
       "      <td>2 - 9 Pcs</td>\n",
       "    </tr>\n",
       "    <tr>\n",
       "      <th>2</th>\n",
       "      <td>1</td>\n",
       "      <td>Hydrofarm Inc</td>\n",
       "      <td>2249 S Mcdowell Boulevard Ext</td>\n",
       "      <td>Petaluma</td>\n",
       "      <td>CA</td>\n",
       "      <td>94954</td>\n",
       "      <td>38.231476</td>\n",
       "      <td>-122.590557</td>\n",
       "      <td>60.0</td>\n",
       "      <td>$10,680,000</td>\n",
       "      <td>0182-02</td>\n",
       "      <td>Hydroponics</td>\n",
       "      <td>11141902</td>\n",
       "      <td>Other Food Crops Grown Under Cover</td>\n",
       "      <td>A</td>\n",
       "      <td>93</td>\n",
       "      <td>No</td>\n",
       "      <td>2004</td>\n",
       "      <td>40,000+</td>\n",
       "      <td>2 - 9 Pcs</td>\n",
       "    </tr>\n",
       "    <tr>\n",
       "      <th>3</th>\n",
       "      <td>0</td>\n",
       "      <td>KAISERQUOTES.COM</td>\n",
       "      <td>750 Mendocino Ave # 4</td>\n",
       "      <td>Santa Rosa</td>\n",
       "      <td>CA</td>\n",
       "      <td>95401</td>\n",
       "      <td>38.447095</td>\n",
       "      <td>-122.717143</td>\n",
       "      <td>6.0</td>\n",
       "      <td>$7,128,000</td>\n",
       "      <td>6324-04</td>\n",
       "      <td>Health Plans</td>\n",
       "      <td>52411402</td>\n",
       "      <td>Direct Health &amp; Medical Insurance Carriers</td>\n",
       "      <td>B</td>\n",
       "      <td>81</td>\n",
       "      <td>No</td>\n",
       "      <td>2004</td>\n",
       "      <td>10,000 - 39,999</td>\n",
       "      <td>2 - 9 Pcs</td>\n",
       "    </tr>\n",
       "    <tr>\n",
       "      <th>4</th>\n",
       "      <td>1</td>\n",
       "      <td>Feast Catering Business Office</td>\n",
       "      <td>3100 Dutton Ave # 132</td>\n",
       "      <td>Santa Rosa</td>\n",
       "      <td>CA</td>\n",
       "      <td>95407</td>\n",
       "      <td>38.401095</td>\n",
       "      <td>-122.722126</td>\n",
       "      <td>150.0</td>\n",
       "      <td>$6,000,000</td>\n",
       "      <td>5812-12</td>\n",
       "      <td>Caterers</td>\n",
       "      <td>72232001</td>\n",
       "      <td>Caterers</td>\n",
       "      <td>B+</td>\n",
       "      <td>89</td>\n",
       "      <td>No</td>\n",
       "      <td>2004</td>\n",
       "      <td>2,500 - 9,999</td>\n",
       "      <td>NaN</td>\n",
       "    </tr>\n",
       "  </tbody>\n",
       "</table>\n",
       "</div>"
      ],
      "text/plain": [
       "   success_rate                    company_name  \\\n",
       "0             1         Deposition Sciences Inc   \n",
       "1             0                       Pac Lease   \n",
       "2             1                   Hydrofarm Inc   \n",
       "3             0                KAISERQUOTES.COM   \n",
       "4             1  Feast Catering Business Office   \n",
       "\n",
       "                         address        city state    zip   latitude  \\\n",
       "0                 3300 Coffey Ln  Santa Rosa    CA  95403  38.470623   \n",
       "1                  7667 Conde Ln     Windsor    CA  95492  38.533784   \n",
       "2  2249 S Mcdowell Boulevard Ext    Petaluma    CA  94954  38.231476   \n",
       "3          750 Mendocino Ave # 4  Santa Rosa    CA  95401  38.447095   \n",
       "4          3100 Dutton Ave # 132  Santa Rosa    CA  95407  38.401095   \n",
       "\n",
       "    longitude  employee_count         sales sic_code  \\\n",
       "0 -122.744092           100.0           $0   3851-03   \n",
       "1 -122.799052            50.0  $19,200,000   7513-03   \n",
       "2 -122.590557            60.0  $10,680,000   0182-02   \n",
       "3 -122.717143             6.0   $7,128,000   6324-04   \n",
       "4 -122.722126           150.0   $6,000,000   5812-12   \n",
       "\n",
       "               sic_description  naics_code  \\\n",
       "0  Optical Goods-Manufacturers    33911505   \n",
       "1      Truck Renting & Leasing    53212016   \n",
       "2                  Hydroponics    11141902   \n",
       "3                 Health Plans    52411402   \n",
       "4                     Caterers    72232001   \n",
       "\n",
       "                              naics_description credit_rating  credit_score  \\\n",
       "0                Ophthalmic Goods Manufacturing            A+            98   \n",
       "1  Truck, Utility Trailer & Rv Rental & Leasing             B            83   \n",
       "2            Other Food Crops Grown Under Cover             A            93   \n",
       "3    Direct Health & Medical Insurance Carriers             B            81   \n",
       "4                                      Caterers            B+            89   \n",
       "\n",
       "  home_business  year_est       sq_footage   pc_count  \n",
       "0            No      2004          40,000+        NaN  \n",
       "1            No      2004  10,000 - 39,999  2 - 9 Pcs  \n",
       "2            No      2004          40,000+  2 - 9 Pcs  \n",
       "3            No      2004  10,000 - 39,999  2 - 9 Pcs  \n",
       "4            No      2004    2,500 - 9,999        NaN  "
      ]
     },
     "execution_count": 2,
     "metadata": {},
     "output_type": "execute_result"
    }
   ],
   "source": [
    "df = pd.read_csv('../sfdat28-schott_work/2004_businesses.csv')\n",
    "df.head()"
   ]
  },
  {
   "cell_type": "code",
   "execution_count": 3,
   "metadata": {
    "collapsed": false
   },
   "outputs": [
    {
     "data": {
      "text/plain": [
       "(160, 20)"
      ]
     },
     "execution_count": 3,
     "metadata": {},
     "output_type": "execute_result"
    }
   ],
   "source": [
    "df.shape"
   ]
  },
  {
   "cell_type": "code",
   "execution_count": 4,
   "metadata": {
    "collapsed": false
   },
   "outputs": [
    {
     "data": {
      "text/plain": [
       "success_rate         0\n",
       "company_name         0\n",
       "address              0\n",
       "city                 0\n",
       "state                0\n",
       "zip                  0\n",
       "latitude             0\n",
       "longitude            0\n",
       "employee_count       1\n",
       "sales                0\n",
       "sic_code             0\n",
       "sic_description      0\n",
       "naics_code           0\n",
       "naics_description    0\n",
       "credit_rating        0\n",
       "credit_score         0\n",
       "home_business        0\n",
       "year_est             0\n",
       "sq_footage           0\n",
       "pc_count             4\n",
       "dtype: int64"
      ]
     },
     "execution_count": 4,
     "metadata": {},
     "output_type": "execute_result"
    }
   ],
   "source": [
    "df.isnull().sum()"
   ]
  },
  {
   "cell_type": "code",
   "execution_count": 5,
   "metadata": {
    "collapsed": false
   },
   "outputs": [
    {
     "data": {
      "text/plain": [
       "Index([u'success_rate', u'company_name', u'address', u'city', u'state', u'zip',\n",
       "       u'latitude', u'longitude', u'employee_count', u'sales', u'sic_code',\n",
       "       u'sic_description', u'naics_code', u'naics_description',\n",
       "       u'credit_rating', u'credit_score', u'home_business', u'year_est',\n",
       "       u'sq_footage', u'pc_count'],\n",
       "      dtype='object')"
      ]
     },
     "execution_count": 5,
     "metadata": {},
     "output_type": "execute_result"
    }
   ],
   "source": [
    "df.columns"
   ]
  },
  {
   "cell_type": "code",
   "execution_count": 6,
   "metadata": {
    "collapsed": false
   },
   "outputs": [
    {
     "data": {
      "text/plain": [
       "81211202    6\n",
       "53121003    5\n",
       "72251117    4\n",
       "56174001    3\n",
       "52421001    3\n",
       "Name: naics_code, dtype: int64"
      ]
     },
     "execution_count": 6,
     "metadata": {},
     "output_type": "execute_result"
    }
   ],
   "source": [
    "df.naics_code.value_counts().head()"
   ]
  },
  {
   "cell_type": "code",
   "execution_count": 7,
   "metadata": {
    "collapsed": false
   },
   "outputs": [
    {
     "name": "stdout",
     "output_type": "stream",
     "text": [
      "Axes(0.125,0.125;0.775x0.775)\n"
     ]
    },
    {
     "data": {
      "image/png": "[encoded data removed]",
      "text/plain": [
       "<matplotlib.figure.Figure at 0x10454c9d0>"
      ]
     },
     "metadata": {},
     "output_type": "display_data"
    }
   ],
   "source": [
    "print df.groupby('city').success_rate.mean().plot(kind='bar')"
   ]
  },
  {
   "cell_type": "code",
   "execution_count": 8,
   "metadata": {
    "collapsed": false
   },
   "outputs": [
    {
     "name": "stdout",
     "output_type": "stream",
     "text": [
      "Axes(0.125,0.125;0.775x0.775)\n"
     ]
    },
    {
     "data": {
      "image/png": "[encoded data removed]",
      "text/plain": [
       "<matplotlib.figure.Figure at 0x10454ca50>"
      ]
     },
     "metadata": {},
     "output_type": "display_data"
    }
   ],
   "source": [
    "print df.groupby('employee_count').success_rate.mean().plot(kind='bar')"
   ]
  },
  {
   "cell_type": "code",
   "execution_count": 9,
   "metadata": {
    "collapsed": false
   },
   "outputs": [
    {
     "data": {
      "text/plain": [
       "count    160.000000\n",
       "mean      77.962500\n",
       "std       14.929136\n",
       "min        0.000000\n",
       "25%       77.000000\n",
       "50%       79.000000\n",
       "75%       82.250000\n",
       "max      100.000000\n",
       "Name: credit_score, dtype: float64"
      ]
     },
     "execution_count": 9,
     "metadata": {},
     "output_type": "execute_result"
    }
   ],
   "source": [
    "df.credit_score.describe()"
   ]
  },
  {
   "cell_type": "code",
   "execution_count": 10,
   "metadata": {
    "collapsed": false
   },
   "outputs": [
    {
     "name": "stdout",
     "output_type": "stream",
     "text": [
      "Axes(0.125,0.125;0.775x0.775)\n"
     ]
    },
    {
     "data": {
      "image/png": "[encoded data removed]",
      "text/plain": [
       "<matplotlib.figure.Figure at 0x117218510>"
      ]
     },
     "metadata": {},
     "output_type": "display_data"
    }
   ],
   "source": [
    "print df.groupby('credit_score').success_rate.mean().plot(kind='bar')"
   ]
  },
  {
   "cell_type": "code",
   "execution_count": 11,
   "metadata": {
    "collapsed": false
   },
   "outputs": [
    {
     "data": {
      "text/plain": [
       "(70, 95)"
      ]
     },
     "execution_count": 11,
     "metadata": {},
     "output_type": "execute_result"
    },
    {
     "data": {
      "image/png": "[encoded data removed]",
      "text/plain": [
       "<matplotlib.figure.Figure at 0x117ced1d0>"
      ]
     },
     "metadata": {},
     "output_type": "display_data"
    }
   ],
   "source": [
    "df.boxplot(column='credit_score', by='success_rate')\n",
    "plt.ylim(70, 95)"
   ]
  },
  {
   "cell_type": "code",
   "execution_count": 12,
   "metadata": {
    "collapsed": false
   },
   "outputs": [
    {
     "name": "stderr",
     "output_type": "stream",
     "text": [
      "/Users/FrancescaSchott/anaconda/envs/testenv/lib/python2.7/site-packages/ipykernel/__main__.py:1: FutureWarning: sort(columns=....) is deprecated, use sort_values(by=.....)\n",
      "  if __name__ == '__main__':\n"
     ]
    },
    {
     "data": {
      "text/html": [
       "<div>\n",
       "<table border=\"1\" class=\"dataframe\">\n",
       "  <thead>\n",
       "    <tr style=\"text-align: right;\">\n",
       "      <th></th>\n",
       "      <th>count</th>\n",
       "      <th>mean</th>\n",
       "    </tr>\n",
       "    <tr>\n",
       "      <th>naics_code</th>\n",
       "      <th></th>\n",
       "      <th></th>\n",
       "    </tr>\n",
       "  </thead>\n",
       "  <tbody>\n",
       "    <tr>\n",
       "      <th>99999004</th>\n",
       "      <td>1</td>\n",
       "      <td>1.000000</td>\n",
       "    </tr>\n",
       "    <tr>\n",
       "      <th>54121101</th>\n",
       "      <td>1</td>\n",
       "      <td>0.000000</td>\n",
       "    </tr>\n",
       "    <tr>\n",
       "      <th>54119905</th>\n",
       "      <td>1</td>\n",
       "      <td>1.000000</td>\n",
       "    </tr>\n",
       "    <tr>\n",
       "      <th>54112001</th>\n",
       "      <td>1</td>\n",
       "      <td>0.000000</td>\n",
       "    </tr>\n",
       "    <tr>\n",
       "      <th>53212016</th>\n",
       "      <td>1</td>\n",
       "      <td>0.000000</td>\n",
       "    </tr>\n",
       "    <tr>\n",
       "      <th>72251502</th>\n",
       "      <td>1</td>\n",
       "      <td>1.000000</td>\n",
       "    </tr>\n",
       "    <tr>\n",
       "      <th>53112004</th>\n",
       "      <td>1</td>\n",
       "      <td>0.000000</td>\n",
       "    </tr>\n",
       "    <tr>\n",
       "      <th>81131027</th>\n",
       "      <td>1</td>\n",
       "      <td>0.000000</td>\n",
       "    </tr>\n",
       "    <tr>\n",
       "      <th>81149058</th>\n",
       "      <td>1</td>\n",
       "      <td>0.000000</td>\n",
       "    </tr>\n",
       "    <tr>\n",
       "      <th>52411402</th>\n",
       "      <td>1</td>\n",
       "      <td>0.000000</td>\n",
       "    </tr>\n",
       "    <tr>\n",
       "      <th>81211302</th>\n",
       "      <td>1</td>\n",
       "      <td>0.000000</td>\n",
       "    </tr>\n",
       "    <tr>\n",
       "      <th>54121301</th>\n",
       "      <td>1</td>\n",
       "      <td>0.000000</td>\n",
       "    </tr>\n",
       "    <tr>\n",
       "      <th>52314001</th>\n",
       "      <td>1</td>\n",
       "      <td>0.000000</td>\n",
       "    </tr>\n",
       "    <tr>\n",
       "      <th>81331908</th>\n",
       "      <td>1</td>\n",
       "      <td>0.000000</td>\n",
       "    </tr>\n",
       "    <tr>\n",
       "      <th>52229111</th>\n",
       "      <td>1</td>\n",
       "      <td>1.000000</td>\n",
       "    </tr>\n",
       "    <tr>\n",
       "      <th>51919014</th>\n",
       "      <td>1</td>\n",
       "      <td>0.000000</td>\n",
       "    </tr>\n",
       "    <tr>\n",
       "      <th>51821008</th>\n",
       "      <td>1</td>\n",
       "      <td>0.000000</td>\n",
       "    </tr>\n",
       "    <tr>\n",
       "      <th>51791901</th>\n",
       "      <td>1</td>\n",
       "      <td>1.000000</td>\n",
       "    </tr>\n",
       "    <tr>\n",
       "      <th>51213101</th>\n",
       "      <td>1</td>\n",
       "      <td>1.000000</td>\n",
       "    </tr>\n",
       "    <tr>\n",
       "      <th>51211008</th>\n",
       "      <td>1</td>\n",
       "      <td>1.000000</td>\n",
       "    </tr>\n",
       "    <tr>\n",
       "      <th>48841006</th>\n",
       "      <td>1</td>\n",
       "      <td>0.000000</td>\n",
       "    </tr>\n",
       "    <tr>\n",
       "      <th>81219910</th>\n",
       "      <td>1</td>\n",
       "      <td>1.000000</td>\n",
       "    </tr>\n",
       "    <tr>\n",
       "      <th>81291021</th>\n",
       "      <td>1</td>\n",
       "      <td>1.000000</td>\n",
       "    </tr>\n",
       "    <tr>\n",
       "      <th>52232008</th>\n",
       "      <td>1</td>\n",
       "      <td>0.000000</td>\n",
       "    </tr>\n",
       "    <tr>\n",
       "      <th>81291028</th>\n",
       "      <td>1</td>\n",
       "      <td>0.000000</td>\n",
       "    </tr>\n",
       "    <tr>\n",
       "      <th>54121903</th>\n",
       "      <td>1</td>\n",
       "      <td>0.000000</td>\n",
       "    </tr>\n",
       "    <tr>\n",
       "      <th>54131005</th>\n",
       "      <td>1</td>\n",
       "      <td>0.000000</td>\n",
       "    </tr>\n",
       "    <tr>\n",
       "      <th>62121003</th>\n",
       "      <td>1</td>\n",
       "      <td>0.000000</td>\n",
       "    </tr>\n",
       "    <tr>\n",
       "      <th>61171012</th>\n",
       "      <td>1</td>\n",
       "      <td>1.000000</td>\n",
       "    </tr>\n",
       "    <tr>\n",
       "      <th>61171003</th>\n",
       "      <td>1</td>\n",
       "      <td>0.000000</td>\n",
       "    </tr>\n",
       "    <tr>\n",
       "      <th>...</th>\n",
       "      <td>...</td>\n",
       "      <td>...</td>\n",
       "    </tr>\n",
       "    <tr>\n",
       "      <th>44211012</th>\n",
       "      <td>1</td>\n",
       "      <td>1.000000</td>\n",
       "    </tr>\n",
       "    <tr>\n",
       "      <th>44112004</th>\n",
       "      <td>1</td>\n",
       "      <td>1.000000</td>\n",
       "    </tr>\n",
       "    <tr>\n",
       "      <th>42499050</th>\n",
       "      <td>1</td>\n",
       "      <td>0.000000</td>\n",
       "    </tr>\n",
       "    <tr>\n",
       "      <th>42399019</th>\n",
       "      <td>1</td>\n",
       "      <td>1.000000</td>\n",
       "    </tr>\n",
       "    <tr>\n",
       "      <th>42392023</th>\n",
       "      <td>1</td>\n",
       "      <td>1.000000</td>\n",
       "    </tr>\n",
       "    <tr>\n",
       "      <th>44314247</th>\n",
       "      <td>1</td>\n",
       "      <td>1.000000</td>\n",
       "    </tr>\n",
       "    <tr>\n",
       "      <th>62139936</th>\n",
       "      <td>1</td>\n",
       "      <td>1.000000</td>\n",
       "    </tr>\n",
       "    <tr>\n",
       "      <th>81311008</th>\n",
       "      <td>2</td>\n",
       "      <td>1.000000</td>\n",
       "    </tr>\n",
       "    <tr>\n",
       "      <th>11133201</th>\n",
       "      <td>2</td>\n",
       "      <td>0.000000</td>\n",
       "    </tr>\n",
       "    <tr>\n",
       "      <th>52393005</th>\n",
       "      <td>2</td>\n",
       "      <td>1.000000</td>\n",
       "    </tr>\n",
       "    <tr>\n",
       "      <th>54161302</th>\n",
       "      <td>2</td>\n",
       "      <td>1.000000</td>\n",
       "    </tr>\n",
       "    <tr>\n",
       "      <th>54151217</th>\n",
       "      <td>2</td>\n",
       "      <td>0.500000</td>\n",
       "    </tr>\n",
       "    <tr>\n",
       "      <th>54151104</th>\n",
       "      <td>2</td>\n",
       "      <td>0.500000</td>\n",
       "    </tr>\n",
       "    <tr>\n",
       "      <th>54131001</th>\n",
       "      <td>2</td>\n",
       "      <td>1.000000</td>\n",
       "    </tr>\n",
       "    <tr>\n",
       "      <th>11141902</th>\n",
       "      <td>2</td>\n",
       "      <td>1.000000</td>\n",
       "    </tr>\n",
       "    <tr>\n",
       "      <th>11199803</th>\n",
       "      <td>2</td>\n",
       "      <td>0.000000</td>\n",
       "    </tr>\n",
       "    <tr>\n",
       "      <th>53111002</th>\n",
       "      <td>2</td>\n",
       "      <td>1.000000</td>\n",
       "    </tr>\n",
       "    <tr>\n",
       "      <th>23835013</th>\n",
       "      <td>2</td>\n",
       "      <td>1.000000</td>\n",
       "    </tr>\n",
       "    <tr>\n",
       "      <th>33995009</th>\n",
       "      <td>2</td>\n",
       "      <td>1.000000</td>\n",
       "    </tr>\n",
       "    <tr>\n",
       "      <th>61162014</th>\n",
       "      <td>2</td>\n",
       "      <td>0.500000</td>\n",
       "    </tr>\n",
       "    <tr>\n",
       "      <th>48411004</th>\n",
       "      <td>2</td>\n",
       "      <td>0.500000</td>\n",
       "    </tr>\n",
       "    <tr>\n",
       "      <th>45399878</th>\n",
       "      <td>2</td>\n",
       "      <td>0.500000</td>\n",
       "    </tr>\n",
       "    <tr>\n",
       "      <th>45392002</th>\n",
       "      <td>2</td>\n",
       "      <td>1.000000</td>\n",
       "    </tr>\n",
       "    <tr>\n",
       "      <th>44419034</th>\n",
       "      <td>2</td>\n",
       "      <td>0.500000</td>\n",
       "    </tr>\n",
       "    <tr>\n",
       "      <th>56174001</th>\n",
       "      <td>3</td>\n",
       "      <td>0.666667</td>\n",
       "    </tr>\n",
       "    <tr>\n",
       "      <th>52421001</th>\n",
       "      <td>3</td>\n",
       "      <td>0.333333</td>\n",
       "    </tr>\n",
       "    <tr>\n",
       "      <th>52229202</th>\n",
       "      <td>3</td>\n",
       "      <td>1.000000</td>\n",
       "    </tr>\n",
       "    <tr>\n",
       "      <th>72251117</th>\n",
       "      <td>4</td>\n",
       "      <td>0.000000</td>\n",
       "    </tr>\n",
       "    <tr>\n",
       "      <th>53121003</th>\n",
       "      <td>5</td>\n",
       "      <td>0.200000</td>\n",
       "    </tr>\n",
       "    <tr>\n",
       "      <th>81211202</th>\n",
       "      <td>6</td>\n",
       "      <td>0.166667</td>\n",
       "    </tr>\n",
       "  </tbody>\n",
       "</table>\n",
       "<p>125 rows × 2 columns</p>\n",
       "</div>"
      ],
      "text/plain": [
       "            count      mean\n",
       "naics_code                 \n",
       "99999004        1  1.000000\n",
       "54121101        1  0.000000\n",
       "54119905        1  1.000000\n",
       "54112001        1  0.000000\n",
       "53212016        1  0.000000\n",
       "72251502        1  1.000000\n",
       "53112004        1  0.000000\n",
       "81131027        1  0.000000\n",
       "81149058        1  0.000000\n",
       "52411402        1  0.000000\n",
       "81211302        1  0.000000\n",
       "54121301        1  0.000000\n",
       "52314001        1  0.000000\n",
       "81331908        1  0.000000\n",
       "52229111        1  1.000000\n",
       "51919014        1  0.000000\n",
       "51821008        1  0.000000\n",
       "51791901        1  1.000000\n",
       "51213101        1  1.000000\n",
       "51211008        1  1.000000\n",
       "48841006        1  0.000000\n",
       "81219910        1  1.000000\n",
       "81291021        1  1.000000\n",
       "52232008        1  0.000000\n",
       "81291028        1  0.000000\n",
       "54121903        1  0.000000\n",
       "54131005        1  0.000000\n",
       "62121003        1  0.000000\n",
       "61171012        1  1.000000\n",
       "61171003        1  0.000000\n",
       "...           ...       ...\n",
       "44211012        1  1.000000\n",
       "44112004        1  1.000000\n",
       "42499050        1  0.000000\n",
       "42399019        1  1.000000\n",
       "42392023        1  1.000000\n",
       "44314247        1  1.000000\n",
       "62139936        1  1.000000\n",
       "81311008        2  1.000000\n",
       "11133201        2  0.000000\n",
       "52393005        2  1.000000\n",
       "54161302        2  1.000000\n",
       "54151217        2  0.500000\n",
       "54151104        2  0.500000\n",
       "54131001        2  1.000000\n",
       "11141902        2  1.000000\n",
       "11199803        2  0.000000\n",
       "53111002        2  1.000000\n",
       "23835013        2  1.000000\n",
       "33995009        2  1.000000\n",
       "61162014        2  0.500000\n",
       "48411004        2  0.500000\n",
       "45399878        2  0.500000\n",
       "45392002        2  1.000000\n",
       "44419034        2  0.500000\n",
       "56174001        3  0.666667\n",
       "52421001        3  0.333333\n",
       "52229202        3  1.000000\n",
       "72251117        4  0.000000\n",
       "53121003        5  0.200000\n",
       "81211202        6  0.166667\n",
       "\n",
       "[125 rows x 2 columns]"
      ]
     },
     "execution_count": 12,
     "metadata": {},
     "output_type": "execute_result"
    }
   ],
   "source": [
    "df.groupby('naics_code').success_rate.agg(['count', 'mean']).sort('count')"
   ]
  },
  {
   "cell_type": "code",
   "execution_count": 13,
   "metadata": {
    "collapsed": false
   },
   "outputs": [
    {
     "name": "stdout",
     "output_type": "stream",
     "text": [
      "naics_code\n",
      "11133201    0.000000\n",
      "11141902    1.000000\n",
      "11199803    0.000000\n",
      "11291001    1.000000\n",
      "11299013    1.000000\n",
      "23611505    0.000000\n",
      "23611823    1.000000\n",
      "23731004    1.000000\n",
      "23799012    0.000000\n",
      "23821024    0.000000\n",
      "23822025    1.000000\n",
      "23831009    1.000000\n",
      "23835013    1.000000\n",
      "23891006    1.000000\n",
      "31213001    1.000000\n",
      "31412004    1.000000\n",
      "32311109    1.000000\n",
      "32311164    0.000000\n",
      "33231210    0.000000\n",
      "33271002    0.000000\n",
      "33361109    1.000000\n",
      "33911505    1.000000\n",
      "33991006    0.000000\n",
      "33995009    1.000000\n",
      "33999936    1.000000\n",
      "42331029    0.000000\n",
      "42372032    0.000000\n",
      "42392023    1.000000\n",
      "42399019    1.000000\n",
      "42499050    0.000000\n",
      "              ...   \n",
      "61161005    0.000000\n",
      "61162014    0.500000\n",
      "61169102    1.000000\n",
      "61171003    0.000000\n",
      "61171012    1.000000\n",
      "62121003    0.000000\n",
      "62139901    1.000000\n",
      "62139936    1.000000\n",
      "62149301    1.000000\n",
      "71399031    1.000000\n",
      "71399050    0.000000\n",
      "72111002    1.000000\n",
      "72119101    1.000000\n",
      "72232001    1.000000\n",
      "72251117    0.000000\n",
      "72251502    1.000000\n",
      "81131027    0.000000\n",
      "81149058    0.000000\n",
      "81211202    0.166667\n",
      "81211302    0.000000\n",
      "81219910    1.000000\n",
      "81291021    1.000000\n",
      "81291028    0.000000\n",
      "81299030    1.000000\n",
      "81299033    0.000000\n",
      "81299046    0.000000\n",
      "81311008    1.000000\n",
      "81331210    0.000000\n",
      "81331908    0.000000\n",
      "99999004    1.000000\n",
      "Name: success_rate, dtype: float64\n"
     ]
    }
   ],
   "source": [
    "print df.groupby('naics_code').success_rate.mean()"
   ]
  },
  {
   "cell_type": "code",
   "execution_count": 14,
   "metadata": {
    "collapsed": false
   },
   "outputs": [
    {
     "name": "stdout",
     "output_type": "stream",
     "text": [
      "No     106\n",
      "Yes     54\n",
      "Name: home_business, dtype: int64\n"
     ]
    }
   ],
   "source": [
    "print df.home_business.value_counts()"
   ]
  },
  {
   "cell_type": "code",
   "execution_count": 15,
   "metadata": {
    "collapsed": false
   },
   "outputs": [
    {
     "data": {
      "text/plain": [
       "<matplotlib.axes._subplots.AxesSubplot at 0x117f4f110>"
      ]
     },
     "execution_count": 15,
     "metadata": {},
     "output_type": "execute_result"
    },
    {
     "data": {
      "image/png": "[encoded data removed]",
      "text/plain": [
       "<matplotlib.figure.Figure at 0x117ece910>"
      ]
     },
     "metadata": {},
     "output_type": "display_data"
    }
   ],
   "source": [
    "df.groupby('home_business').success_rate.mean().plot(kind='bar')"
   ]
  },
  {
   "cell_type": "code",
   "execution_count": 16,
   "metadata": {
    "collapsed": false
   },
   "outputs": [
    {
     "data": {
      "text/plain": [
       "(70, 95)"
      ]
     },
     "execution_count": 16,
     "metadata": {},
     "output_type": "execute_result"
    },
    {
     "data": {
      "image/png": "[encoded data removed]",
      "text/plain": [
       "<matplotlib.figure.Figure at 0x117a0fcd0>"
      ]
     },
     "metadata": {},
     "output_type": "display_data"
    }
   ],
   "source": [
    "df.boxplot(column='credit_score', by='home_business')\n",
    "plt.ylim(70, 95)"
   ]
  },
  {
   "cell_type": "code",
   "execution_count": 17,
   "metadata": {
    "collapsed": false
   },
   "outputs": [
    {
     "data": {
      "text/plain": [
       "array([[<matplotlib.axes._subplots.AxesSubplot object at 0x11799d510>,\n",
       "        <matplotlib.axes._subplots.AxesSubplot object at 0x117ec4510>],\n",
       "       [<matplotlib.axes._subplots.AxesSubplot object at 0x11717d2d0>,\n",
       "        <matplotlib.axes._subplots.AxesSubplot object at 0x117d37810>]], dtype=object)"
      ]
     },
     "execution_count": 17,
     "metadata": {},
     "output_type": "execute_result"
    },
    {
     "data": {
      "image/png": "[encoded data removed]",
      "text/plain": [
       "<matplotlib.figure.Figure at 0x114cbd150>"
      ]
     },
     "metadata": {},
     "output_type": "display_data"
    }
   ],
   "source": [
    "df_3 = df[['success_rate', 'credit_score', 'home_business']]\n",
    "\n",
    "pd.scatter_matrix(df_3)"
   ]
  },
  {
   "cell_type": "code",
   "execution_count": 18,
   "metadata": {
    "collapsed": false
   },
   "outputs": [
    {
     "data": {
      "text/html": [
       "<div>\n",
       "<table border=\"1\" class=\"dataframe\">\n",
       "  <thead>\n",
       "    <tr style=\"text-align: right;\">\n",
       "      <th></th>\n",
       "      <th>success_rate</th>\n",
       "      <th>city</th>\n",
       "      <th>employee_count</th>\n",
       "    </tr>\n",
       "  </thead>\n",
       "  <tbody>\n",
       "    <tr>\n",
       "      <th>0</th>\n",
       "      <td>1</td>\n",
       "      <td>Santa Rosa</td>\n",
       "      <td>100.0</td>\n",
       "    </tr>\n",
       "    <tr>\n",
       "      <th>1</th>\n",
       "      <td>0</td>\n",
       "      <td>Windsor</td>\n",
       "      <td>50.0</td>\n",
       "    </tr>\n",
       "    <tr>\n",
       "      <th>2</th>\n",
       "      <td>1</td>\n",
       "      <td>Petaluma</td>\n",
       "      <td>60.0</td>\n",
       "    </tr>\n",
       "    <tr>\n",
       "      <th>3</th>\n",
       "      <td>0</td>\n",
       "      <td>Santa Rosa</td>\n",
       "      <td>6.0</td>\n",
       "    </tr>\n",
       "    <tr>\n",
       "      <th>4</th>\n",
       "      <td>1</td>\n",
       "      <td>Santa Rosa</td>\n",
       "      <td>150.0</td>\n",
       "    </tr>\n",
       "  </tbody>\n",
       "</table>\n",
       "</div>"
      ],
      "text/plain": [
       "   success_rate        city  employee_count\n",
       "0             1  Santa Rosa           100.0\n",
       "1             0     Windsor            50.0\n",
       "2             1    Petaluma            60.0\n",
       "3             0  Santa Rosa             6.0\n",
       "4             1  Santa Rosa           150.0"
      ]
     },
     "execution_count": 18,
     "metadata": {},
     "output_type": "execute_result"
    }
   ],
   "source": [
    "df1 = df[['success_rate', 'city', 'employee_count']]\n",
    "df1.head()"
   ]
  },
  {
   "cell_type": "code",
   "execution_count": 19,
   "metadata": {
    "collapsed": false
   },
   "outputs": [
    {
     "data": {
      "text/plain": [
       "Santa Rosa      54\n",
       "Petaluma        24\n",
       "Sonoma          17\n",
       "Rohnert Park    15\n",
       "Healdsburg      11\n",
       "Windsor         11\n",
       "Sebastopol       9\n",
       "Cotati           4\n",
       "Cloverdale       3\n",
       "Penngrove        3\n",
       "Guerneville      2\n",
       "Forestville      2\n",
       "Fulton           1\n",
       "Valley Ford      1\n",
       "Occidental       1\n",
       "Cazadero         1\n",
       "Graton           1\n",
       "Name: city, dtype: int64"
      ]
     },
     "execution_count": 19,
     "metadata": {},
     "output_type": "execute_result"
    }
   ],
   "source": [
    "df1.city.value_counts()"
   ]
  },
  {
   "cell_type": "code",
   "execution_count": 24,
   "metadata": {
    "collapsed": false
   },
   "outputs": [
    {
     "data": {
      "text/plain": [
       "1.0      67\n",
       "2.0      27\n",
       "3.0      13\n",
       "6.0      11\n",
       "5.0      10\n",
       "4.0       7\n",
       "20.0      6\n",
       "9.0       5\n",
       "8.0       2\n",
       "7.0       2\n",
       "15.0      2\n",
       "10.0      1\n",
       "100.0     1\n",
       "12.0      1\n",
       "30.0      1\n",
       "50.0      1\n",
       "60.0      1\n",
       "150.0     1\n",
       "Name: employee_count, dtype: int64"
      ]
     },
     "execution_count": 24,
     "metadata": {},
     "output_type": "execute_result"
    }
   ],
   "source": [
    "df1.employee_count.value_counts()"
   ]
  },
  {
   "cell_type": "code",
   "execution_count": 20,
   "metadata": {
    "collapsed": false
   },
   "outputs": [
    {
     "name": "stdout",
     "output_type": "stream",
     "text": [
      "    success_rate         city  employee_count\n",
      "15             1  Guerneville            20.0\n",
      "66             1  Guerneville             2.0\n"
     ]
    }
   ],
   "source": [
    "print df1[df1.city=='Guerneville']"
   ]
  },
  {
   "cell_type": "code",
   "execution_count": 21,
   "metadata": {
    "collapsed": false
   },
   "outputs": [
    {
     "name": "stdout",
     "output_type": "stream",
     "text": [
      "    success_rate                   company_name           address  \\\n",
      "15             1       Russian River Health Ctr      16319 3rd St   \n",
      "66             1  Twilight Studio Stained Glass  14700 Orchard Ln   \n",
      "\n",
      "           city state    zip   latitude   longitude  employee_count  \\\n",
      "15  Guerneville    CA  95446  38.500929 -122.989196            20.0   \n",
      "66  Guerneville    CA  95446  38.516900 -122.974354             2.0   \n",
      "\n",
      "          sales sic_code         sic_description  naics_code  \\\n",
      "15  $2,420,000   8049-22           Psychologists    62139936   \n",
      "66    $402,000   5231-03  Glass-Stained & Leaded    44419034   \n",
      "\n",
      "                                 naics_description credit_rating  \\\n",
      "15  Offices Of All Other Misc Health Practitioners            B+   \n",
      "66                 Other Building Material Dealers            C+   \n",
      "\n",
      "    credit_score home_business  year_est     sq_footage     pc_count  \n",
      "15            87            No      2004  2,500 - 9,999  10 - 29 Pcs  \n",
      "66            79           Yes      2004  2,500 - 9,999    0 - 1 Pcs  \n"
     ]
    }
   ],
   "source": [
    "print df[df.city=='Guerneville']"
   ]
  },
  {
   "cell_type": "code",
   "execution_count": 22,
   "metadata": {
    "collapsed": false
   },
   "outputs": [],
   "source": [
    "df_santa_rosa = df[df.city=='Santa Rosa']"
   ]
  },
  {
   "cell_type": "code",
   "execution_count": 23,
   "metadata": {
    "collapsed": false
   },
   "outputs": [
    {
     "data": {
      "text/html": [
       "<div>\n",
       "<table border=\"1\" class=\"dataframe\">\n",
       "  <thead>\n",
       "    <tr style=\"text-align: right;\">\n",
       "      <th></th>\n",
       "      <th>success_rate</th>\n",
       "      <th>company_name</th>\n",
       "      <th>address</th>\n",
       "      <th>city</th>\n",
       "      <th>state</th>\n",
       "      <th>zip</th>\n",
       "      <th>latitude</th>\n",
       "      <th>longitude</th>\n",
       "      <th>employee_count</th>\n",
       "      <th>sales</th>\n",
       "      <th>sic_code</th>\n",
       "      <th>sic_description</th>\n",
       "      <th>naics_code</th>\n",
       "      <th>naics_description</th>\n",
       "      <th>credit_rating</th>\n",
       "      <th>credit_score</th>\n",
       "      <th>home_business</th>\n",
       "      <th>year_est</th>\n",
       "      <th>sq_footage</th>\n",
       "      <th>pc_count</th>\n",
       "    </tr>\n",
       "  </thead>\n",
       "  <tbody>\n",
       "    <tr>\n",
       "      <th>0</th>\n",
       "      <td>1</td>\n",
       "      <td>Deposition Sciences Inc</td>\n",
       "      <td>3300 Coffey Ln</td>\n",
       "      <td>Santa Rosa</td>\n",
       "      <td>CA</td>\n",
       "      <td>95403</td>\n",
       "      <td>38.470623</td>\n",
       "      <td>-122.744092</td>\n",
       "      <td>100.0</td>\n",
       "      <td>$0</td>\n",
       "      <td>3851-03</td>\n",
       "      <td>Optical Goods-Manufacturers</td>\n",
       "      <td>33911505</td>\n",
       "      <td>Ophthalmic Goods Manufacturing</td>\n",
       "      <td>A+</td>\n",
       "      <td>98</td>\n",
       "      <td>No</td>\n",
       "      <td>2004</td>\n",
       "      <td>40,000+</td>\n",
       "      <td>NaN</td>\n",
       "    </tr>\n",
       "    <tr>\n",
       "      <th>3</th>\n",
       "      <td>0</td>\n",
       "      <td>KAISERQUOTES.COM</td>\n",
       "      <td>750 Mendocino Ave # 4</td>\n",
       "      <td>Santa Rosa</td>\n",
       "      <td>CA</td>\n",
       "      <td>95401</td>\n",
       "      <td>38.447095</td>\n",
       "      <td>-122.717143</td>\n",
       "      <td>6.0</td>\n",
       "      <td>$7,128,000</td>\n",
       "      <td>6324-04</td>\n",
       "      <td>Health Plans</td>\n",
       "      <td>52411402</td>\n",
       "      <td>Direct Health &amp; Medical Insurance Carriers</td>\n",
       "      <td>B</td>\n",
       "      <td>81</td>\n",
       "      <td>No</td>\n",
       "      <td>2004</td>\n",
       "      <td>10,000 - 39,999</td>\n",
       "      <td>2 - 9 Pcs</td>\n",
       "    </tr>\n",
       "    <tr>\n",
       "      <th>4</th>\n",
       "      <td>1</td>\n",
       "      <td>Feast Catering Business Office</td>\n",
       "      <td>3100 Dutton Ave # 132</td>\n",
       "      <td>Santa Rosa</td>\n",
       "      <td>CA</td>\n",
       "      <td>95407</td>\n",
       "      <td>38.401095</td>\n",
       "      <td>-122.722126</td>\n",
       "      <td>150.0</td>\n",
       "      <td>$6,000,000</td>\n",
       "      <td>5812-12</td>\n",
       "      <td>Caterers</td>\n",
       "      <td>72232001</td>\n",
       "      <td>Caterers</td>\n",
       "      <td>B+</td>\n",
       "      <td>89</td>\n",
       "      <td>No</td>\n",
       "      <td>2004</td>\n",
       "      <td>2,500 - 9,999</td>\n",
       "      <td>NaN</td>\n",
       "    </tr>\n",
       "    <tr>\n",
       "      <th>6</th>\n",
       "      <td>0</td>\n",
       "      <td>Western Dental Ctr</td>\n",
       "      <td>4100 Montgomery Dr # A</td>\n",
       "      <td>Santa Rosa</td>\n",
       "      <td>CA</td>\n",
       "      <td>95405</td>\n",
       "      <td>38.454166</td>\n",
       "      <td>-122.672014</td>\n",
       "      <td>30.0</td>\n",
       "      <td>$4,350,000</td>\n",
       "      <td>8021-01</td>\n",
       "      <td>Dentists</td>\n",
       "      <td>62121003</td>\n",
       "      <td>Offices Of Dentists</td>\n",
       "      <td>A+</td>\n",
       "      <td>100</td>\n",
       "      <td>No</td>\n",
       "      <td>2004</td>\n",
       "      <td>2,500 - 9,999</td>\n",
       "      <td>2 - 9 Pcs</td>\n",
       "    </tr>\n",
       "    <tr>\n",
       "      <th>8</th>\n",
       "      <td>1</td>\n",
       "      <td>California Mortgage Consultant</td>\n",
       "      <td>3033 Cleveland Ave # 150</td>\n",
       "      <td>Santa Rosa</td>\n",
       "      <td>CA</td>\n",
       "      <td>95403</td>\n",
       "      <td>38.466799</td>\n",
       "      <td>-122.729384</td>\n",
       "      <td>20.0</td>\n",
       "      <td>$3,980,000</td>\n",
       "      <td>6162-01</td>\n",
       "      <td>Real Estate Loans</td>\n",
       "      <td>52229202</td>\n",
       "      <td>Real Estate Credit</td>\n",
       "      <td>B</td>\n",
       "      <td>82</td>\n",
       "      <td>No</td>\n",
       "      <td>2004</td>\n",
       "      <td>2,500 - 9,999</td>\n",
       "      <td>10 - 29 Pcs</td>\n",
       "    </tr>\n",
       "  </tbody>\n",
       "</table>\n",
       "</div>"
      ],
      "text/plain": [
       "   success_rate                    company_name                   address  \\\n",
       "0             1         Deposition Sciences Inc            3300 Coffey Ln   \n",
       "3             0                KAISERQUOTES.COM     750 Mendocino Ave # 4   \n",
       "4             1  Feast Catering Business Office     3100 Dutton Ave # 132   \n",
       "6             0              Western Dental Ctr    4100 Montgomery Dr # A   \n",
       "8             1  California Mortgage Consultant  3033 Cleveland Ave # 150   \n",
       "\n",
       "         city state    zip   latitude   longitude  employee_count  \\\n",
       "0  Santa Rosa    CA  95403  38.470623 -122.744092           100.0   \n",
       "3  Santa Rosa    CA  95401  38.447095 -122.717143             6.0   \n",
       "4  Santa Rosa    CA  95407  38.401095 -122.722126           150.0   \n",
       "6  Santa Rosa    CA  95405  38.454166 -122.672014            30.0   \n",
       "8  Santa Rosa    CA  95403  38.466799 -122.729384            20.0   \n",
       "\n",
       "         sales sic_code              sic_description  naics_code  \\\n",
       "0          $0   3851-03  Optical Goods-Manufacturers    33911505   \n",
       "3  $7,128,000   6324-04                 Health Plans    52411402   \n",
       "4  $6,000,000   5812-12                     Caterers    72232001   \n",
       "6  $4,350,000   8021-01                     Dentists    62121003   \n",
       "8  $3,980,000   6162-01            Real Estate Loans    52229202   \n",
       "\n",
       "                            naics_description credit_rating  credit_score  \\\n",
       "0              Ophthalmic Goods Manufacturing            A+            98   \n",
       "3  Direct Health & Medical Insurance Carriers             B            81   \n",
       "4                                    Caterers            B+            89   \n",
       "6                         Offices Of Dentists            A+           100   \n",
       "8                          Real Estate Credit             B            82   \n",
       "\n",
       "  home_business  year_est       sq_footage     pc_count  \n",
       "0            No      2004          40,000+          NaN  \n",
       "3            No      2004  10,000 - 39,999    2 - 9 Pcs  \n",
       "4            No      2004    2,500 - 9,999          NaN  \n",
       "6            No      2004    2,500 - 9,999    2 - 9 Pcs  \n",
       "8            No      2004    2,500 - 9,999  10 - 29 Pcs  "
      ]
     },
     "execution_count": 23,
     "metadata": {},
     "output_type": "execute_result"
    }
   ],
   "source": [
    "df_santa_rosa.head()"
   ]
  },
  {
   "cell_type": "code",
   "execution_count": 26,
   "metadata": {
    "collapsed": false
   },
   "outputs": [
    {
     "name": "stderr",
     "output_type": "stream",
     "text": [
      "/Users/FrancescaSchott/anaconda/envs/testenv/lib/python2.7/site-packages/pandas/core/generic.py:3443: SettingWithCopyWarning: \n",
      "A value is trying to be set on a copy of a slice from a DataFrame\n",
      "\n",
      "See the caveats in the documentation: http://pandas.pydata.org/pandas-docs/stable/indexing.html#indexing-view-versus-copy\n",
      "  self._update_inplace(new_data)\n"
     ]
    },
    {
     "data": {
      "text/html": [
       "<div>\n",
       "<table border=\"1\" class=\"dataframe\">\n",
       "  <thead>\n",
       "    <tr style=\"text-align: right;\">\n",
       "      <th></th>\n",
       "      <th>success_rate</th>\n",
       "      <th>company_name</th>\n",
       "      <th>address</th>\n",
       "      <th>city</th>\n",
       "      <th>state</th>\n",
       "      <th>zip</th>\n",
       "      <th>latitude</th>\n",
       "      <th>longitude</th>\n",
       "      <th>employee_count</th>\n",
       "      <th>sales</th>\n",
       "      <th>sic_code</th>\n",
       "      <th>sic_description</th>\n",
       "      <th>naics_code</th>\n",
       "      <th>naics_description</th>\n",
       "      <th>credit_rating</th>\n",
       "      <th>credit_score</th>\n",
       "      <th>home_business</th>\n",
       "      <th>year_est</th>\n",
       "      <th>sq_footage</th>\n",
       "      <th>pc_count</th>\n",
       "    </tr>\n",
       "  </thead>\n",
       "  <tbody>\n",
       "    <tr>\n",
       "      <th>0</th>\n",
       "      <td>1</td>\n",
       "      <td>Deposition Sciences Inc</td>\n",
       "      <td>3300 Coffey Ln</td>\n",
       "      <td>Santa Rosa</td>\n",
       "      <td>CA</td>\n",
       "      <td>95403</td>\n",
       "      <td>38.470623</td>\n",
       "      <td>-122.744092</td>\n",
       "      <td>100.0</td>\n",
       "      <td>$0</td>\n",
       "      <td>3851-03</td>\n",
       "      <td>Optical Goods-Manufacturers</td>\n",
       "      <td>33911505</td>\n",
       "      <td>Ophthalmic Goods Manufacturing</td>\n",
       "      <td>A+</td>\n",
       "      <td>98</td>\n",
       "      <td>No</td>\n",
       "      <td>2004</td>\n",
       "      <td>40,000+</td>\n",
       "      <td>NaN</td>\n",
       "    </tr>\n",
       "    <tr>\n",
       "      <th>3</th>\n",
       "      <td>0</td>\n",
       "      <td>KAISERQUOTES.COM</td>\n",
       "      <td>750 Mendocino Ave # 4</td>\n",
       "      <td>Santa Rosa</td>\n",
       "      <td>CA</td>\n",
       "      <td>95401</td>\n",
       "      <td>38.447095</td>\n",
       "      <td>-122.717143</td>\n",
       "      <td>6.0</td>\n",
       "      <td>$7,128,000</td>\n",
       "      <td>6324-04</td>\n",
       "      <td>Health Plans</td>\n",
       "      <td>52411402</td>\n",
       "      <td>Direct Health &amp; Medical Insurance Carriers</td>\n",
       "      <td>B</td>\n",
       "      <td>81</td>\n",
       "      <td>No</td>\n",
       "      <td>2004</td>\n",
       "      <td>10,000 - 39,999</td>\n",
       "      <td>2 - 9 Pcs</td>\n",
       "    </tr>\n",
       "    <tr>\n",
       "      <th>4</th>\n",
       "      <td>1</td>\n",
       "      <td>Feast Catering Business Office</td>\n",
       "      <td>3100 Dutton Ave # 132</td>\n",
       "      <td>Santa Rosa</td>\n",
       "      <td>CA</td>\n",
       "      <td>95407</td>\n",
       "      <td>38.401095</td>\n",
       "      <td>-122.722126</td>\n",
       "      <td>150.0</td>\n",
       "      <td>$6,000,000</td>\n",
       "      <td>5812-12</td>\n",
       "      <td>Caterers</td>\n",
       "      <td>72232001</td>\n",
       "      <td>Caterers</td>\n",
       "      <td>B+</td>\n",
       "      <td>89</td>\n",
       "      <td>No</td>\n",
       "      <td>2004</td>\n",
       "      <td>2,500 - 9,999</td>\n",
       "      <td>NaN</td>\n",
       "    </tr>\n",
       "    <tr>\n",
       "      <th>6</th>\n",
       "      <td>0</td>\n",
       "      <td>Western Dental Ctr</td>\n",
       "      <td>4100 Montgomery Dr # A</td>\n",
       "      <td>Santa Rosa</td>\n",
       "      <td>CA</td>\n",
       "      <td>95405</td>\n",
       "      <td>38.454166</td>\n",
       "      <td>-122.672014</td>\n",
       "      <td>30.0</td>\n",
       "      <td>$4,350,000</td>\n",
       "      <td>8021-01</td>\n",
       "      <td>Dentists</td>\n",
       "      <td>62121003</td>\n",
       "      <td>Offices Of Dentists</td>\n",
       "      <td>A+</td>\n",
       "      <td>100</td>\n",
       "      <td>No</td>\n",
       "      <td>2004</td>\n",
       "      <td>2,500 - 9,999</td>\n",
       "      <td>2 - 9 Pcs</td>\n",
       "    </tr>\n",
       "    <tr>\n",
       "      <th>8</th>\n",
       "      <td>1</td>\n",
       "      <td>California Mortgage Consultant</td>\n",
       "      <td>3033 Cleveland Ave # 150</td>\n",
       "      <td>Santa Rosa</td>\n",
       "      <td>CA</td>\n",
       "      <td>95403</td>\n",
       "      <td>38.466799</td>\n",
       "      <td>-122.729384</td>\n",
       "      <td>20.0</td>\n",
       "      <td>$3,980,000</td>\n",
       "      <td>6162-01</td>\n",
       "      <td>Real Estate Loans</td>\n",
       "      <td>52229202</td>\n",
       "      <td>Real Estate Credit</td>\n",
       "      <td>B</td>\n",
       "      <td>82</td>\n",
       "      <td>No</td>\n",
       "      <td>2004</td>\n",
       "      <td>2,500 - 9,999</td>\n",
       "      <td>10 - 29 Pcs</td>\n",
       "    </tr>\n",
       "  </tbody>\n",
       "</table>\n",
       "</div>"
      ],
      "text/plain": [
       "   success_rate                    company_name                   address  \\\n",
       "0             1         Deposition Sciences Inc            3300 Coffey Ln   \n",
       "3             0                KAISERQUOTES.COM     750 Mendocino Ave # 4   \n",
       "4             1  Feast Catering Business Office     3100 Dutton Ave # 132   \n",
       "6             0              Western Dental Ctr    4100 Montgomery Dr # A   \n",
       "8             1  California Mortgage Consultant  3033 Cleveland Ave # 150   \n",
       "\n",
       "         city state    zip   latitude   longitude  employee_count  \\\n",
       "0  Santa Rosa    CA  95403  38.470623 -122.744092           100.0   \n",
       "3  Santa Rosa    CA  95401  38.447095 -122.717143             6.0   \n",
       "4  Santa Rosa    CA  95407  38.401095 -122.722126           150.0   \n",
       "6  Santa Rosa    CA  95405  38.454166 -122.672014            30.0   \n",
       "8  Santa Rosa    CA  95403  38.466799 -122.729384            20.0   \n",
       "\n",
       "         sales sic_code              sic_description  naics_code  \\\n",
       "0          $0   3851-03  Optical Goods-Manufacturers    33911505   \n",
       "3  $7,128,000   6324-04                 Health Plans    52411402   \n",
       "4  $6,000,000   5812-12                     Caterers    72232001   \n",
       "6  $4,350,000   8021-01                     Dentists    62121003   \n",
       "8  $3,980,000   6162-01            Real Estate Loans    52229202   \n",
       "\n",
       "                            naics_description credit_rating  credit_score  \\\n",
       "0              Ophthalmic Goods Manufacturing            A+            98   \n",
       "3  Direct Health & Medical Insurance Carriers             B            81   \n",
       "4                                    Caterers            B+            89   \n",
       "6                         Offices Of Dentists            A+           100   \n",
       "8                          Real Estate Credit             B            82   \n",
       "\n",
       "  home_business  year_est       sq_footage     pc_count  \n",
       "0            No      2004          40,000+          NaN  \n",
       "3            No      2004  10,000 - 39,999    2 - 9 Pcs  \n",
       "4            No      2004    2,500 - 9,999          NaN  \n",
       "6            No      2004    2,500 - 9,999    2 - 9 Pcs  \n",
       "8            No      2004    2,500 - 9,999  10 - 29 Pcs  "
      ]
     },
     "execution_count": 26,
     "metadata": {},
     "output_type": "execute_result"
    }
   ],
   "source": [
    "df_santa_rosa.sales.replace('[\\$,]', '', inplace=True)\n",
    "df_santa_rosa.head()"
   ]
  },
  {
   "cell_type": "code",
   "execution_count": 26,
   "metadata": {
    "collapsed": false
   },
   "outputs": [
    {
     "data": {
      "text/plain": [
       "95403    12\n",
       "95407    11\n",
       "95401    11\n",
       "95409     9\n",
       "95404     8\n",
       "95405     3\n",
       "Name: zip, dtype: int64"
      ]
     },
     "execution_count": 26,
     "metadata": {},
     "output_type": "execute_result"
    }
   ],
   "source": [
    "\n",
    "##print df_santa_rosa.employee_count.mean()\n",
    "##print df_santa_rosa.sales.mean()\n",
    "##print df_santa_rosa.credit_score.mean()\n",
    "\n",
    "df_santa_rosa.zip.value_counts()\n"
   ]
  },
  {
   "cell_type": "code",
   "execution_count": null,
   "metadata": {
    "collapsed": true
   },
   "outputs": [],
   "source": []
  }
 ],
 "metadata": {
  "anaconda-cloud": {},
  "kernelspec": {
   "display_name": "Python [conda env:testenv]",
   "language": "python",
   "name": "conda-env-testenv-py"
  },
  "language_info": {
   "codemirror_mode": {
    "name": "ipython",
    "version": 2
   },
   "file_extension": ".py",
   "mimetype": "text/x-python",
   "name": "python",
   "nbconvert_exporter": "python",
   "pygments_lexer": "ipython2",
   "version": "2.7.12"
  }
 },
 "nbformat": 4,
 "nbformat_minor": 1
}
